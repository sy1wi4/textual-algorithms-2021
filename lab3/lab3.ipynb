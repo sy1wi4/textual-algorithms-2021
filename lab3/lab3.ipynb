{
 "cells": [
  {
   "cell_type": "markdown",
   "metadata": {},
   "source": [
    "# Text compression"
   ]
  },
  {
   "cell_type": "markdown",
   "metadata": {},
   "source": [
    "Zadanie polega na implementacji dwóch algorytmów kompresji:\n",
    "\n",
    "1. statycznego algorytmu Huffmana (1 punkt)\n",
    "2. dynamicznego algorytmu Huffmana (2 punkty)\n",
    "\n",
    "Dla każdego z algorytmów należy wykonać następujące zadania:\n",
    "\n",
    "1. Opracować format pliku przechowującego dane.\n",
    "2. Zaimplementować algorytm kompresji i dekompresji danych dla tego formatu pliku.\n",
    "3. Zmierzyć współczynnik kompresji (wyrażone w procentach: 1 - plik_skompresowany / plik_nieskompresowany) dla plików tekstowych o rozmiarach: 1kB, 10kB, 100kB, 1MB, dla różnych typów plików: plik tekstowy z portalu Guttenberga, plik źródłowy z Githubu, plik ze znakami losowanymi z rozkładu jednostajnego.\n",
    "4. Zmierzyć czas kompresji i dekompresji dla plików z punktu 3 dla każdego algorytmu."
   ]
  },
  {
   "cell_type": "markdown",
   "metadata": {},
   "source": [
    "## 1. Static Huffman Coding"
   ]
  },
  {
   "cell_type": "code",
   "execution_count": 1,
   "metadata": {},
   "outputs": [],
   "source": [
    "def count_letters(text):\n",
    "    letters = {}   # keys - letters, values - number of occurences\n",
    "    for l in text:\n",
    "        # value to be returned if the key is not found is 0\n",
    "        letters[l] = 1 + letters.get(l,0)\n",
    "    return letters"
   ]
  },
  {
   "cell_type": "code",
   "execution_count": 2,
   "metadata": {},
   "outputs": [],
   "source": [
    "class Node():\n",
    "    def __init__(self, letter = '*', weight = 0, left = None, right = None, parent = None):\n",
    "        self.letter = letter\n",
    "        self.weight = weight\n",
    "        self.left = left\n",
    "        self.right = right\n",
    "        self.parent = parent\n",
    "    def __repr__(self):\n",
    "        return str(self.letter) + ':' + str(self.weight)\n",
    "    \n",
    "    def swap(node1, node2):\n",
    "        if node1 == node2 or node1.parent == node2 or node2.parent == node1:\n",
    "            return\n",
    "        if node1.parent==node2.parent:\n",
    "            if node1.parent.left == node1:\n",
    "                node1.parent.left = node2\n",
    "                node1.parent.right = node1\n",
    "            else:\n",
    "                node1.parent.left = node1\n",
    "                node1.parent.right = node2\n",
    "            return\n",
    "        node1p = node1.parent\n",
    "        node2p = node2.parent\n",
    "        if node1 == node1p.left:\n",
    "            node1p.left = node2\n",
    "        else:\n",
    "            node1p.right = node2\n",
    "        if node2 == node2p.left:\n",
    "            node2p.left = node1\n",
    "        else:\n",
    "            node2p.right = node1\n",
    "        node1.parent = node2p\n",
    "        node2.parent = node1p"
   ]
  },
  {
   "cell_type": "code",
   "execution_count": 3,
   "metadata": {},
   "outputs": [],
   "source": [
    "def Huffmann(text):\n",
    "    leafs = []\n",
    "    letters = count_letters(text)\n",
    "    for l,weight in letters.items():\n",
    "        leafs.append(Node(l,weight))\n",
    "        \n",
    "    leafs = sorted(leafs, key = lambda x: x.weight)  # sort by weight\n",
    "    \n",
    "\n",
    "    internal_nodes = []   # always sorted incrementally\n",
    "    \n",
    "    while (len(internal_nodes) + len(leafs)) > 1:\n",
    "        \n",
    "        # 2 min weight elements from both leafs and internal_nodes\n",
    "        min_internal = internal_nodes[:2]\n",
    "        min_leafs = leafs[:2]\n",
    "        \n",
    "        min_el = min_internal + min_leafs\n",
    "        [left,right] = sorted(min_el, key = lambda x: x.weight)[:2]\n",
    "                \n",
    "        # remove left from list\n",
    "        if leafs and left == leafs[0]:\n",
    "            leafs.pop(0)       \n",
    "        else:\n",
    "            internal_nodes.pop(0)\n",
    "            \n",
    "        # remove right \n",
    "        if leafs and right == leafs[0]:\n",
    "            leafs.pop(0)\n",
    "        else:\n",
    "            internal_nodes.pop(0)\n",
    "        \n",
    "        internal_nodes.append(Node(weight = left.weight + right.weight, left = left, right = right))\n",
    "        \n",
    "    \n",
    "    return internal_nodes[0]"
   ]
  },
  {
   "cell_type": "markdown",
   "metadata": {},
   "source": [
    "### Auxiliary function to print Huffman Tree"
   ]
  },
  {
   "cell_type": "code",
   "execution_count": 4,
   "metadata": {},
   "outputs": [],
   "source": [
    "def display_tree(root):\n",
    "\n",
    "    def print_tree(root):\n",
    "            \"\"\"Returns list of strings, width, height, and horizontal coordinate of the root.\"\"\"\n",
    "            # No child.\n",
    "            if root.right is None and root.left is None:\n",
    "                line = '%s' % root.letter + ':' + str(root.weight)\n",
    "                width = len(line)\n",
    "                height = 1\n",
    "                middle = width // 2\n",
    "                return [line], width, height, middle\n",
    "\n",
    "            # Only left child.\n",
    "            if root.right is None:\n",
    "                lines, n, p, x = print_tree(root.left)\n",
    "                s = '%s' % root.letter + ':' + str(root.weight)\n",
    "                u = len(s)\n",
    "                first_line = (x + 1) * ' ' + (n - x - 1) * '_' + s\n",
    "                second_line = x * ' ' + '/' + (n - x - 1 + u) * ' '\n",
    "                shifted_lines = [line + u * ' ' for line in lines]\n",
    "                return [first_line, second_line] + shifted_lines, n + u, p + 2, n + u // 2\n",
    "\n",
    "            # Only right child.\n",
    "            if root.left is None:\n",
    "                lines, n, p, x = print_tree(root.right)\n",
    "                s = '%s' % root.letter + ':' + str(root.weight)\n",
    "                u = len(s)\n",
    "                first_line = s + x * '_' + (n - x) * ' '\n",
    "                second_line = (u + x) * ' ' + '\\\\' + (n - x - 1) * ' '\n",
    "                shifted_lines = [u * ' ' + line for line in lines]\n",
    "                return [first_line, second_line] + shifted_lines, n + u, p + 2, u // 2\n",
    "\n",
    "            # Two children.\n",
    "            left, n, p, x = print_tree(root.left)\n",
    "            right, m, q, y = print_tree(root.right)\n",
    "            s = '%s' % root.letter + ':' + str(root.weight)\n",
    "            u = len(s)\n",
    "            first_line = (x + 1) * ' ' + (n - x - 1) * '_' + s + y * '_' + (m - y) * ' '\n",
    "            second_line = x * ' ' + '/' + (n - x - 1 + u + y) * ' ' + '\\\\' + (m - y - 1) * ' '\n",
    "            if p < q:\n",
    "                left += [n * ' '] * (q - p)\n",
    "            elif q < p:\n",
    "                right += [m * ' '] * (p - q)\n",
    "            zipped_lines = zip(left, right)\n",
    "            lines = [first_line, second_line] + [a + u * ' ' + b for a, b in zipped_lines]\n",
    "            return lines, n + m + u, max(p, q) + 2, n + u // 2\n",
    "        \n",
    "    print()\n",
    "    lines, _, _, _ = print_tree(root)\n",
    "    for line in lines:\n",
    "        print(line)\n",
    "    print()"
   ]
  },
  {
   "cell_type": "markdown",
   "metadata": {},
   "source": [
    "### 1. Example Huffman Tree - \"abracadabra\""
   ]
  },
  {
   "cell_type": "code",
   "execution_count": 5,
   "metadata": {},
   "outputs": [
    {
     "name": "stdout",
     "output_type": "stream",
     "text": [
      "\n",
      "  _*:11____                 \n",
      " /         \\                \n",
      "a:5      _*:6__________     \n",
      "        /              \\    \n",
      "       r:2        ____*:4_  \n",
      "                 /        \\ \n",
      "               _*:2_     b:2\n",
      "              /     \\       \n",
      "             c:1   d:1      \n",
      "\n"
     ]
    }
   ],
   "source": [
    "text1 = \"abracadabra\"\n",
    "root1 = Huffmann(text1)\n",
    "display_tree(root1)"
   ]
  },
  {
   "cell_type": "markdown",
   "metadata": {},
   "source": [
    "### 2. Example Huffman Tree - \"aaaaaaabbbbbbbaaaaaaaaaaaaaa\""
   ]
  },
  {
   "cell_type": "code",
   "execution_count": 6,
   "metadata": {},
   "outputs": [
    {
     "name": "stdout",
     "output_type": "stream",
     "text": [
      "\n",
      "  _*:28__  \n",
      " /       \\ \n",
      "b:7    a:21\n",
      "\n"
     ]
    }
   ],
   "source": [
    "text2 = \"aaaaaaabbbbbbbaaaaaaaaaaaaaa\"\n",
    "root2 = Huffmann(text2)\n",
    "display_tree(root2)"
   ]
  },
  {
   "cell_type": "markdown",
   "metadata": {},
   "source": [
    "### 3. Example Huffman Tree - random string"
   ]
  },
  {
   "cell_type": "code",
   "execution_count": 7,
   "metadata": {},
   "outputs": [
    {
     "name": "stdout",
     "output_type": "stream",
     "text": [
      "\n",
      "                         ___________________________________*:66__________________                                            \n",
      "                        /                                                         \\                                           \n",
      "                  ____*:30_______________________                           ____*:36______________________________            \n",
      "                 /                               \\                         /                                      \\           \n",
      "     __________*:14_                 __________*:16____              ____*:16_                              ____*:20_____     \n",
      "    /               \\               /                  \\            /         \\                            /             \\    \n",
      "  _*:7____         a:7         ____*:8____           _*:8_        _*:8_      s:8         ________________*:10_        _*:10_  \n",
      " /        \\                   /           \\         /     \\      /     \\                /                     \\      /      \\ \n",
      "w:3     _*:4_               _*:4_       _*:4_      j:4   g:4    h:4   d:4             _*:5____               m:5    f:5    k:5\n",
      "       /     \\             /     \\     /     \\                                       /        \\                               \n",
      "      c:2   n:2           i:2   e:2   u:2   b:2                                     l:2     _*:3____                          \n",
      "                                                                                           /        \\                         \n",
      "                                                                                          r:1     _*:2_                       \n",
      "                                                                                                 /     \\                      \n",
      "                                                                                                o:1   y:1                     \n",
      "\n"
     ]
    }
   ],
   "source": [
    "text3 = \"asmfscknajmwagjfkhmiowesanudhgsimdhsmkasgefsdbkuysgrfjhcalwdablfkj\"\n",
    "root3 = Huffmann(text3)\n",
    "display_tree(root3)"
   ]
  },
  {
   "cell_type": "markdown",
   "metadata": {},
   "source": [
    "### Encoding "
   ]
  },
  {
   "cell_type": "markdown",
   "metadata": {},
   "source": [
    "##### Get codes of every letter"
   ]
  },
  {
   "cell_type": "code",
   "execution_count": 8,
   "metadata": {},
   "outputs": [],
   "source": [
    "def get_codes(root,code,codes):\n",
    "    if not root: \n",
    "        return\n",
    "    if root.letter != \"*\":\n",
    "        codes[root.letter] = code\n",
    "    get_codes(root.left, code + \"0\", codes)\n",
    "    get_codes(root.right, code + \"1\", codes)"
   ]
  },
  {
   "cell_type": "code",
   "execution_count": 9,
   "metadata": {},
   "outputs": [
    {
     "data": {
      "text/plain": [
       "{'a': '0', 'r': '10', 'c': '1100', 'd': '1101', 'b': '111'}"
      ]
     },
     "execution_count": 9,
     "metadata": {},
     "output_type": "execute_result"
    }
   ],
   "source": [
    "codes = {}\n",
    "get_codes(root1, \"\", codes)\n",
    "codes"
   ]
  },
  {
   "cell_type": "markdown",
   "metadata": {},
   "source": [
    "##### Encode text using above letter codes"
   ]
  },
  {
   "cell_type": "code",
   "execution_count": 10,
   "metadata": {},
   "outputs": [],
   "source": [
    "def encode(text, root):\n",
    "    codes = {}\n",
    "    get_codes(root, \"\", codes)\n",
    "    \n",
    "    result = \"\"\n",
    "    for letter in text:\n",
    "        result += codes[letter]\n",
    "        \n",
    "    return result"
   ]
  },
  {
   "cell_type": "markdown",
   "metadata": {},
   "source": [
    "### Decoding "
   ]
  },
  {
   "cell_type": "code",
   "execution_count": 11,
   "metadata": {},
   "outputs": [],
   "source": [
    "def decode(root, code):\n",
    "    result = \"\"\n",
    "    curr = root\n",
    "    for c in code:\n",
    "        if c == \"0\":\n",
    "            curr = curr.left\n",
    "        else:\n",
    "            curr = curr.right\n",
    "        if curr.letter != \"*\":\n",
    "            result += curr.letter\n",
    "            curr = root\n",
    "            \n",
    "    return result"
   ]
  },
  {
   "cell_type": "markdown",
   "metadata": {},
   "source": [
    "### Example"
   ]
  },
  {
   "cell_type": "markdown",
   "metadata": {},
   "source": [
    "##### 1. \"abracadabra\""
   ]
  },
  {
   "cell_type": "code",
   "execution_count": 12,
   "metadata": {},
   "outputs": [
    {
     "data": {
      "text/plain": [
       "'01111001100011010111100'"
      ]
     },
     "execution_count": 12,
     "metadata": {},
     "output_type": "execute_result"
    }
   ],
   "source": [
    "e1 = encode(text1, root1)\n",
    "e1"
   ]
  },
  {
   "cell_type": "code",
   "execution_count": 13,
   "metadata": {},
   "outputs": [
    {
     "data": {
      "text/plain": [
       "'abracadabra'"
      ]
     },
     "execution_count": 13,
     "metadata": {},
     "output_type": "execute_result"
    }
   ],
   "source": [
    "decode(root1, e1)"
   ]
  },
  {
   "cell_type": "markdown",
   "metadata": {},
   "source": [
    "##### 2. \"aaaaaaabbbbbbbaaaaaaaaaaaaaa\""
   ]
  },
  {
   "cell_type": "code",
   "execution_count": 14,
   "metadata": {},
   "outputs": [
    {
     "data": {
      "text/plain": [
       "'1111111000000011111111111111'"
      ]
     },
     "execution_count": 14,
     "metadata": {},
     "output_type": "execute_result"
    }
   ],
   "source": [
    "e2 = encode(text2, root2)\n",
    "e2"
   ]
  },
  {
   "cell_type": "code",
   "execution_count": 15,
   "metadata": {},
   "outputs": [
    {
     "data": {
      "text/plain": [
       "'aaaaaaabbbbbbbaaaaaaaaaaaaaa'"
      ]
     },
     "execution_count": 15,
     "metadata": {},
     "output_type": "execute_result"
    }
   ],
   "source": [
    "decode(root2, e2)"
   ]
  },
  {
   "cell_type": "markdown",
   "metadata": {},
   "source": [
    "##### 3.\"asmfscknajmwagjfkhmiowesanudhgsimdhsmkasgefsdbkuysgrfjhcalwdablfkj\""
   ]
  },
  {
   "cell_type": "code",
   "execution_count": 16,
   "metadata": {},
   "outputs": [
    {
     "data": {
      "text/plain": [
       "'0011011101111010100010111100011001011011010000001011101101110111110001101010001100110000001001101001000110101010011000011110101000110110011000101110111110011010111010011110101100101011111101010110011110101111100101110011010000001000111000000010010010101111000111011110110'"
      ]
     },
     "execution_count": 16,
     "metadata": {},
     "output_type": "execute_result"
    }
   ],
   "source": [
    "e3 = encode(text3, root3)\n",
    "e3"
   ]
  },
  {
   "cell_type": "code",
   "execution_count": 17,
   "metadata": {},
   "outputs": [
    {
     "data": {
      "text/plain": [
       "'asmfscknajmwagjfkhmiowesanudhgsimdhsmkasgefsdbkuysgrfjhcalwdablfkj'"
      ]
     },
     "execution_count": 17,
     "metadata": {},
     "output_type": "execute_result"
    }
   ],
   "source": [
    "decode(root3, e3)"
   ]
  },
  {
   "cell_type": "markdown",
   "metadata": {},
   "source": [
    "## 2. Dynamic Huffman Coding"
   ]
  },
  {
   "cell_type": "code",
   "execution_count": 18,
   "metadata": {},
   "outputs": [],
   "source": [
    "from queue import Queue"
   ]
  },
  {
   "cell_type": "code",
   "execution_count": 19,
   "metadata": {},
   "outputs": [],
   "source": [
    "class AdaptiveHuffmanTree:\n",
    "    def __init__(self):\n",
    "        self.root = Node(\"NYT\")\n",
    "        self.NYT = self.root\n",
    "        self.leafs = {}\n",
    "        self.nodes = []\n",
    "        self.codes = {}\n",
    "        self.update_codes(self.root,\"\", self.codes)\n",
    "\n",
    "    def get_codes(self):\n",
    "        return self.codes\n",
    "        \n",
    "    # codes = {}\n",
    "    # update_codes(\"\", codes)\n",
    "    def update_codes(self,root,code,codes):  \n",
    "        if not root: \n",
    "            return\n",
    "        if root.letter != \"*\" and root.letter != None:\n",
    "            codes[root.letter] = code\n",
    "        self.update_codes(root.left, code + \"0\", codes)\n",
    "        self.update_codes(root.right, code + \"1\", codes)\n",
    "        \n",
    "    def divide_NYT(self, new_node):\n",
    "        new_NYT = Node(\"NYT\")\n",
    "        self.NYT.left = new_NYT\n",
    "        self.NYT.right = new_node\n",
    "        self.NYT.letter = None\n",
    "        new_node.parent = self.NYT\n",
    "        new_NYT.parent = self.NYT\n",
    "        self.NYT = new_NYT\n",
    "\n",
    "    def find_leader(self, node: Node):\n",
    "        idx = node.index\n",
    "        while idx > 0 and node.weight > self.nodes[idx - 1].weight:\n",
    "            idx -= 1\n",
    "        return self.nodes[idx]\n",
    "\n",
    "    def update_indexes(self):\n",
    "        self.nodes = []\n",
    "        queue = Queue()\n",
    "        queue.put(self.root)\n",
    "        index = 0\n",
    "        while not queue.empty():\n",
    "            node = queue.get()\n",
    "            self.nodes.append(node)\n",
    "            node.index = index\n",
    "            if node.right is not None:\n",
    "                queue.put(node.right)\n",
    "            if node.left is not None:\n",
    "                queue.put(node.left)\n",
    "            index += 1\n",
    "\n",
    "    def increment(self, node):\n",
    "        f = False\n",
    "        while node is not None:\n",
    "            node.weight += 1\n",
    "            leader = self.find_leader(node)\n",
    "            if not (leader == node or node.parent == leader or leader.parent == node):\n",
    "                Node.swap(node, leader)\n",
    "                self.update_indexes()\n",
    "                f = True\n",
    "            node = node.parent\n",
    "        return f\n",
    "\n",
    "    def add_letter(self, letter):\n",
    "        if letter in self.leafs.keys():\n",
    "            f = self.increment(self.leafs[letter])\n",
    "\n",
    "        else:\n",
    "            new_node = Node(letter, 1)\n",
    "            self.leafs[letter] = new_node\n",
    "            self.divide_NYT(new_node)\n",
    "            \n",
    "            new_parent = new_node.parent\n",
    "            new_parent.index = len(self.nodes)\n",
    "            \n",
    "            self.nodes.append(new_parent)\n",
    "            new_node.index = len(self.nodes)\n",
    "            \n",
    "            self.nodes.append(new_node)\n",
    "            self.increment(new_parent)\n",
    "            \n",
    "            f = True\n",
    "        if f:\n",
    "            self.update_codes(self.root,\"\",self.codes)\n",
    "            \n",
    "        return f"
   ]
  },
  {
   "cell_type": "code",
   "execution_count": 20,
   "metadata": {},
   "outputs": [],
   "source": [
    "def build_tree(text):\n",
    "    tree = AdaptiveHuffmanTree()\n",
    "\n",
    "    for letter in text:\n",
    "        tree.add_letter(letter)\n",
    "    return tree.root"
   ]
  },
  {
   "cell_type": "markdown",
   "metadata": {},
   "source": [
    "### 1. Example Adaptive Huffman Tree - \"abracadabra\""
   ]
  },
  {
   "cell_type": "code",
   "execution_count": 21,
   "metadata": {},
   "outputs": [
    {
     "name": "stdout",
     "output_type": "stream",
     "text": [
      "\n",
      "  _None:11__________________________               \n",
      " /                                  \\              \n",
      "a:5                         _____None:6______      \n",
      "                           /                 \\     \n",
      "                   _____None:2_          _None:4_  \n",
      "                  /            \\        /        \\ \n",
      "             __None:1_        c:1      r:2      b:2\n",
      "            /         \\                            \n",
      "          NYT:0      d:1                           \n",
      "\n"
     ]
    }
   ],
   "source": [
    "text1 = \"abracadabra\"\n",
    "root1 = build_tree(text1)\n",
    "display_tree(root1)"
   ]
  },
  {
   "cell_type": "markdown",
   "metadata": {},
   "source": [
    "### 2. Example Adaptive Huffman Tree - \"aaaaaaabbbbbbbaaaaaaaaaaaaaa\""
   ]
  },
  {
   "cell_type": "code",
   "execution_count": 22,
   "metadata": {},
   "outputs": [
    {
     "name": "stdout",
     "output_type": "stream",
     "text": [
      "\n",
      "         _____None:28__  \n",
      "        /              \\ \n",
      "   __None:7_         a:21\n",
      "  /         \\            \n",
      "NYT:0      b:7           \n",
      "\n"
     ]
    }
   ],
   "source": [
    "text2 = \"aaaaaaabbbbbbbaaaaaaaaaaaaaa\"\n",
    "root2 = build_tree(text2)\n",
    "display_tree(root2)"
   ]
  },
  {
   "cell_type": "markdown",
   "metadata": {},
   "source": [
    "### 3. Example Adaptive Huffman Tree - random string"
   ]
  },
  {
   "cell_type": "code",
   "execution_count": 23,
   "metadata": {},
   "outputs": [
    {
     "name": "stdout",
     "output_type": "stream",
     "text": [
      "\n",
      "       __________________________________________None:39_______                                                                \n",
      "      /                                                        \\                                                               \n",
      "  _None:16_________________________________                _None:23______                                                      \n",
      " /                                         \\              /              \\                                                     \n",
      "s:7                       ______________None:9_         f:10         _None:13______                                            \n",
      "                         /                     \\                    /              \\                                           \n",
      "                 _____None:4______            d:5                  a:6         _None:7__________________________               \n",
      "                /                 \\                                           /                                 \\              \n",
      "            _None:2_          _None:2_                                       j:3                        _____None:4______      \n",
      "           /        \\        /        \\                                                                /                 \\     \n",
      "          c:1      q:1      m:1      h:1                                                       _____None:2_          _None:2_  \n",
      "                                                                                              /            \\        /        \\ \n",
      "                                                                                         __None:1_        y:1      z:1      g:1\n",
      "                                                                                        /         \\                            \n",
      "                                                                                      NYT:0      k:1                           \n",
      "\n"
     ]
    }
   ],
   "source": [
    "text3 = \"asmfscaaaffdzqaafdsghjfyjsfdsffsdfsfdkj\"\n",
    "root3 = build_tree(text3)\n",
    "display_tree(root3)"
   ]
  },
  {
   "cell_type": "markdown",
   "metadata": {},
   "source": [
    "### Encoding\n",
    "* if NYT symbol encountered add code of NYT and then its generic code\n",
    "* if symbol is in tree trasmit code for its leaf node"
   ]
  },
  {
   "cell_type": "code",
   "execution_count": 24,
   "metadata": {},
   "outputs": [],
   "source": [
    "def encode_adaptive(text):\n",
    "    tree = AdaptiveHuffmanTree()\n",
    "    res = \"\"\n",
    "    codes = {\"NYT\":\"0\"}\n",
    "    for letter in text:\n",
    "\n",
    "        if tree.add_letter(letter):\n",
    "            res += codes[\"NYT\"]\n",
    "            codes = tree.codes.copy()\n",
    "            bits = bin(ord(letter))[2:].zfill(8)   # converts letter to bits\n",
    "            res += bits\n",
    "        res += codes[letter]\n",
    "    return res             "
   ]
  },
  {
   "cell_type": "markdown",
   "metadata": {},
   "source": [
    "### Decoding"
   ]
  },
  {
   "cell_type": "code",
   "execution_count": 25,
   "metadata": {},
   "outputs": [],
   "source": [
    "def decode_adaptive(code):\n",
    "    tree = AdaptiveHuffmanTree()\n",
    "    i = 1\n",
    "    result = \"\"\n",
    "    updated = False\n",
    "    while i < len(code):\n",
    "        node = tree.root\n",
    "        while node.left is not None and node.right is not None:\n",
    "            if code[i] == \"1\":\n",
    "                node = node.right\n",
    "            else:\n",
    "                node = node.left\n",
    "            i += 1\n",
    "        if node.letter == \"NYT\":\n",
    "            letter = chr(int(code[i:i+8], 2))  # converts bits to letter\n",
    "            tree.add_letter(letter)\n",
    "            updated = True\n",
    "            i += 8\n",
    "        else:\n",
    "            if not updated:\n",
    "                tree.add_letter(node.letter)\n",
    "            updated = False\n",
    "            result += node.letter\n",
    "    return result"
   ]
  },
  {
   "cell_type": "markdown",
   "metadata": {},
   "source": [
    "### Example"
   ]
  },
  {
   "cell_type": "markdown",
   "metadata": {},
   "source": [
    "##### 1. \"abracadabra\""
   ]
  },
  {
   "cell_type": "code",
   "execution_count": 26,
   "metadata": {},
   "outputs": [
    {
     "data": {
      "text/plain": [
       "'001100001100110001001000111001010101000110001111010110001100100100101000011000101111100'"
      ]
     },
     "execution_count": 26,
     "metadata": {},
     "output_type": "execute_result"
    }
   ],
   "source": [
    "e1 = encode_adaptive(text1)\n",
    "e1"
   ]
  },
  {
   "cell_type": "code",
   "execution_count": 27,
   "metadata": {},
   "outputs": [
    {
     "data": {
      "text/plain": [
       "'abracadabra'"
      ]
     },
     "execution_count": 27,
     "metadata": {},
     "output_type": "execute_result"
    }
   ],
   "source": [
    "decode_adaptive(e1)"
   ]
  },
  {
   "cell_type": "markdown",
   "metadata": {},
   "source": [
    "#### 2. \"aaaaaaabbbbbbbaaaaaaaaaaaaaa\""
   ]
  },
  {
   "cell_type": "code",
   "execution_count": 28,
   "metadata": {},
   "outputs": [
    {
     "data": {
      "text/plain": [
       "'00110000111111110011000100101010101010111111111111111'"
      ]
     },
     "execution_count": 28,
     "metadata": {},
     "output_type": "execute_result"
    }
   ],
   "source": [
    "e2 = encode_adaptive(text2)\n",
    "e2"
   ]
  },
  {
   "cell_type": "code",
   "execution_count": 29,
   "metadata": {},
   "outputs": [
    {
     "data": {
      "text/plain": [
       "'aaaaaaabbbbbbbaaaaaaaaaaaaaa'"
      ]
     },
     "execution_count": 29,
     "metadata": {},
     "output_type": "execute_result"
    }
   ],
   "source": [
    "decode_adaptive(e2)"
   ]
  },
  {
   "cell_type": "markdown",
   "metadata": {},
   "source": [
    "#### 3. \"asmfscaaaffdzqaafdsghjfyjsfdsffsdfsfdkj\""
   ]
  },
  {
   "cell_type": "code",
   "execution_count": 30,
   "metadata": {},
   "outputs": [
    {
     "data": {
      "text/plain": [
       "'0011000011001110011010001101101101100011001100011100001100011100110000110000101100001100001111000011000010100001100110110100001100110101100001100100011010110001111010100011000001110001001011111010010001100100000101001000110011110010110010001101000111001111000011010100111010001110001111001110001110000011010100101110000011100111010011111100000111001111010100001100110011010000110011010011000011100111110110000110010001010011000011100110010011000011001000110100000110101111010011101000011010101110'"
      ]
     },
     "execution_count": 30,
     "metadata": {},
     "output_type": "execute_result"
    }
   ],
   "source": [
    "e3 = encode_adaptive(text3)\n",
    "e3"
   ]
  },
  {
   "cell_type": "code",
   "execution_count": 31,
   "metadata": {},
   "outputs": [
    {
     "data": {
      "text/plain": [
       "'asmfscaaaffdzqaafdsghjfyjsfdsffsdfsfdkj'"
      ]
     },
     "execution_count": 31,
     "metadata": {},
     "output_type": "execute_result"
    }
   ],
   "source": [
    "decode_adaptive(e3)"
   ]
  },
  {
   "cell_type": "markdown",
   "metadata": {},
   "source": [
    "## Compression ratio test and execution time"
   ]
  },
  {
   "cell_type": "code",
   "execution_count": 32,
   "metadata": {},
   "outputs": [],
   "source": [
    "import os\n",
    "import time"
   ]
  },
  {
   "cell_type": "code",
   "execution_count": 33,
   "metadata": {},
   "outputs": [],
   "source": [
    "def compression_test(filename, result_filename):\n",
    "    res1 = result_filename + \"1\"\n",
    "    res2 = result_filename + \"2\"\n",
    "\n",
    "    \n",
    "    size = os.path.getsize(filename)\n",
    "    print(\"Size before compression:\",size,\"\\n\")\n",
    "    with open(filename, \"r\") as file:\n",
    "        text = file.read()\n",
    "        \n",
    "    print(\"\\n--------------------------\")\n",
    "    print(\"Static Huffman compression\")\n",
    "    print(\"--------------------------\\n\")\n",
    "    with open(res1, \"w\") as file:\n",
    "        file.truncate()\n",
    "        \n",
    "        start_e = time.time()\n",
    "        root= Huffmann(text)\n",
    "        e = encode(text,root)\n",
    "        end_e = time.time()\n",
    "        \n",
    "        file.write(e)\n",
    "        \n",
    "        start_d = time.time()\n",
    "        decode(root,e)\n",
    "        end_d = time.time()\n",
    "\n",
    "        file.close()\n",
    "        \n",
    "    # size is converted from string (\"0\" \"1\") to bit (0 1)\n",
    "    compressed_size_static = os.path.getsize(res1)/8\n",
    "    print(\"Size:\",compressed_size_static) \n",
    "    time_e1 = end_e - start_e\n",
    "    print(\"Time encoding:\", time_e1)\n",
    "    time_d1 = end_d - start_d\n",
    "    print(\"Time decoding\", time_d1)\n",
    "    print(\"Compression ratio:\", (1 - compressed_size_static/size) * 100, \"%\")\n",
    "    \n",
    "    print(\"\\n--------------------------\")\n",
    "    print(\"Dynamic Huffman compression\")\n",
    "    print(\"--------------------------\\n\")\n",
    "\n",
    "    with open(res2, \"w\") as file:\n",
    "        file.truncate()\n",
    "        \n",
    "        start_e = time.time()\n",
    "        e = encode_adaptive(text)\n",
    "        end_e = time.time()\n",
    "\n",
    "        file.write(e)\n",
    "\n",
    "        start_d = time.time()\n",
    "        decode_adaptive(e)\n",
    "        end_d = time.time()\n",
    "\n",
    "        file.close()\n",
    "        \n",
    "    compressed_size_dynamic = os.path.getsize(res2)/8\n",
    "    print(\"Size:\",compressed_size_dynamic) \n",
    "    time_e2 = end_e - start_e\n",
    "    print(\"Time encoding:\", time_e2)\n",
    "    time_d2 = end_d - start_d\n",
    "    print(\"Time decoding\", time_d2)\n",
    "    print(\"Compression ratio:\", (1 - compressed_size_dynamic/size) * 100, \"%\")\n",
    "    \n",
    "    return (time_e1,time_d1,time_e2,time_d2)\n"
   ]
  },
  {
   "cell_type": "code",
   "execution_count": 34,
   "metadata": {},
   "outputs": [
    {
     "name": "stdout",
     "output_type": "stream",
     "text": [
      "\n",
      "\n",
      "\n",
      "#############  lorem_1kb.txt  #############\n",
      "\n",
      "Size before compression: 1001 \n",
      "\n",
      "\n",
      "--------------------------\n",
      "Static Huffman compression\n",
      "--------------------------\n",
      "\n",
      "Size: 533.25\n",
      "Time encoding: 0.0009987354278564453\n",
      "Time decoding 0.000997304916381836\n",
      "Compression ratio: 46.72827172827173 %\n",
      "\n",
      "--------------------------\n",
      "Dynamic Huffman compression\n",
      "--------------------------\n",
      "\n",
      "Size: 1347.25\n",
      "Time encoding: 0.1823422908782959\n",
      "Time decoding 0.19208145141601562\n",
      "Compression ratio: -34.5904095904096 %\n",
      "\n",
      "\n",
      "\n",
      "#############  example_10kb.txt  #############\n",
      "\n",
      "Size before compression: 11152 \n",
      "\n",
      "\n",
      "--------------------------\n",
      "Static Huffman compression\n",
      "--------------------------\n",
      "\n",
      "Size: 6091.875\n",
      "Time encoding: 0.004984855651855469\n",
      "Time decoding 0.014959573745727539\n",
      "Compression ratio: 45.3741481348637 %\n",
      "\n",
      "--------------------------\n",
      "Dynamic Huffman compression\n",
      "--------------------------\n",
      "\n",
      "Size: 8748.375\n",
      "Time encoding: 0.8774399757385254\n",
      "Time decoding 0.962256908416748\n",
      "Compression ratio: 21.553308823529417 %\n",
      "\n",
      "\n",
      "\n",
      "#############  example_100kb.txt  #############\n",
      "\n",
      "Size before compression: 111520 \n",
      "\n",
      "\n",
      "--------------------------\n",
      "Static Huffman compression\n",
      "--------------------------\n",
      "\n",
      "Size: 60918.75\n",
      "Time encoding: 0.0299837589263916\n",
      "Time decoding 0.1099998950958252\n",
      "Compression ratio: 45.3741481348637 %\n",
      "\n",
      "--------------------------\n",
      "Dynamic Huffman compression\n",
      "--------------------------\n",
      "\n",
      "Size: 71649.625\n",
      "Time encoding: 3.994022846221924\n",
      "Time decoding 4.492100715637207\n",
      "Compression ratio: 35.75177098278336 %\n",
      "\n",
      "\n",
      "\n",
      "#############  random_1mb.txt  #############\n",
      "\n",
      "Size before compression: 1350880 \n",
      "\n",
      "\n",
      "--------------------------\n",
      "Static Huffman compression\n",
      "--------------------------\n",
      "\n",
      "Size: 1014882.125\n",
      "Time encoding: 5.334276914596558\n",
      "Time decoding 1.9415702819824219\n",
      "Compression ratio: 24.872518284377588 %\n",
      "\n",
      "--------------------------\n",
      "Dynamic Huffman compression\n",
      "--------------------------\n",
      "\n",
      "Size: 1285499.75\n",
      "Time encoding: 150.80175065994263\n",
      "Time decoding 146.97917294502258\n",
      "Compression ratio: 4.8398266315290766 %\n"
     ]
    }
   ],
   "source": [
    "times = [None] * 4\n",
    "for i,filename in enumerate([\"lorem_1kb.txt\", \"example_10kb.txt\", \"example_100kb.txt\", \"random_1mb.txt\"]):\n",
    "    print(\"\\n\\n\\n#############  \" + filename + \"  #############\\n\")\n",
    "    times[i] = compression_test(filename, \"result\" + str(i))\n",
    "    "
   ]
  },
  {
   "cell_type": "code",
   "execution_count": 35,
   "metadata": {},
   "outputs": [
    {
     "data": {
      "text/plain": [
       "[(0.0009987354278564453,\n",
       "  0.000997304916381836,\n",
       "  0.1823422908782959,\n",
       "  0.19208145141601562),\n",
       " (0.004984855651855469,\n",
       "  0.014959573745727539,\n",
       "  0.8774399757385254,\n",
       "  0.962256908416748),\n",
       " (0.0299837589263916,\n",
       "  0.1099998950958252,\n",
       "  3.994022846221924,\n",
       "  4.492100715637207),\n",
       " (5.334276914596558,\n",
       "  1.9415702819824219,\n",
       "  150.80175065994263,\n",
       "  146.97917294502258)]"
      ]
     },
     "execution_count": 35,
     "metadata": {},
     "output_type": "execute_result"
    }
   ],
   "source": [
    "# static e, static d, dynamic e, dynamic d\n",
    "times"
   ]
  },
  {
   "cell_type": "code",
   "execution_count": 36,
   "metadata": {},
   "outputs": [],
   "source": [
    "import matplotlib.pyplot as plt"
   ]
  },
  {
   "cell_type": "code",
   "execution_count": 37,
   "metadata": {},
   "outputs": [],
   "source": [
    "static_e = [t[0] for t in times]\n",
    "static_d = [t[1] for t in times]\n",
    "dynamic_e = [t[2] for t in times]\n",
    "dynamic_d = [t[3] for t in times]"
   ]
  },
  {
   "cell_type": "code",
   "execution_count": 38,
   "metadata": {},
   "outputs": [],
   "source": [
    "sizes = [1,10,100,1000]"
   ]
  },
  {
   "cell_type": "code",
   "execution_count": 39,
   "metadata": {},
   "outputs": [
    {
     "data": {
      "image/png": "[encoded data removed]",
      "text/plain": [
       "<Figure size 720x720 with 1 Axes>"
      ]
     },
     "metadata": {
      "needs_background": "light"
     },
     "output_type": "display_data"
    }
   ],
   "source": [
    "plt.figure(figsize=(10,10))\n",
    "plt.xlabel('size [kB]')\n",
    "plt.ylabel('time [s]')\n",
    "plt.plot(sizes, static_e, label = \"static\")\n",
    "plt.plot(sizes, dynamic_e, label = \"dynamic\")\n",
    "plt.title(\"Encoding execution time\")\n",
    "plt.legend()\n",
    "plt.show()"
   ]
  },
  {
   "cell_type": "code",
   "execution_count": 46,
   "metadata": {},
   "outputs": [
    {
     "data": {
      "image/png": "[encoded data removed]",
      "text/plain": [
       "<Figure size 720x720 with 1 Axes>"
      ]
     },
     "metadata": {
      "needs_background": "light"
     },
     "output_type": "display_data"
    }
   ],
   "source": [
    "plt.figure(figsize=(10,10))\n",
    "plt.xlabel('size [kB]')\n",
    "plt.ylabel('time [s]')\n",
    "plt.plot(sizes, static_d, label = \"static\")\n",
    "plt.plot(sizes, dynamic_d, label = \"dynamic\")\n",
    "plt.title(\"Decoding execution time\")\n",
    "plt.legend()\n",
    "plt.show()"
   ]
  },
  {
   "cell_type": "markdown",
   "metadata": {},
   "source": [
    "* Execution time of encoding/decoding with adaptive algorithm is much longer than static.\n",
    "* Worst time of dynamic algorithm is caused probably by suboptimal implementation.\n",
    "* in case of small files it occurs negative compression ratio.\n",
    "* Compression ratio for Static Huffman coding constantly fluctuates around 45%"
   ]
  }
 ],
 "metadata": {
  "kernelspec": {
   "display_name": "Python 3.8.1 32-bit",
   "language": "python",
   "name": "python38132bit9a120df58b394f05878c762c4c55e3da"
  },
  "language_info": {
   "codemirror_mode": {
    "name": "ipython",
    "version": 3
   },
   "file_extension": ".py",
   "mimetype": "text/x-python",
   "name": "python",
   "nbconvert_exporter": "python",
   "pygments_lexer": "ipython3",
   "version": "3.8.1"
  }
 },
 "nbformat": 4,
 "nbformat_minor": 4
}
