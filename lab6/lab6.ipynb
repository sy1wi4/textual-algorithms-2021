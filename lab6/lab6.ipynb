{
 "cells": [
  {
   "cell_type": "markdown",
   "metadata": {},
   "source": [
    "# 2d pattern matching"
   ]
  },
  {
   "cell_type": "markdown",
   "metadata": {},
   "source": [
    "Wzorce dwuwymiarowe:\n",
    "1. Zaimplementuj algorytm wyszukiwania wzorca 2-wymiarowego\n",
    "2. Znajdź w załączonym pliku \"haystack.txt\" wszyskie sytuacje, gdy taka sama litera występuje na tej samej pozycji w dwóch kolejnych linijkach. Zwróć uwagę, na nierówną długość linii w pliku.\n",
    "3. Znajdź wszystkie wystąpienia \"th\" oraz \"t h\" w dwóch kolejnych liniach na tej samej pozycji.\n",
    "4. Wybierz przynajmniej 3 litery (małe). Znajdź wszystkie wystąpienia tej litery w załączonym pliku \"haystack.png\"\n",
    "5. Znajdź wszystkie wystąpienia słowa \"p a t t e r n\" w haystack.png.\n",
    "6. Porównaj czas budowania automatu i czas wyszukiwania dla różnych rozmiarów wzorca\n",
    "7. Podziel plik na 2, 4 i 8 fragmentów (w poziomie) i porównaj czas przeszukiwania\n",
    "\n",
    "Załączone wzorce to fragmenty książki \"Jewels of Stringology\"."
   ]
  },
  {
   "cell_type": "markdown",
   "metadata": {},
   "source": [
    "## Zad 1. \n",
    "Zaimplementuj algorytm wyszukiwania wzorca 2-wymiarowego\n"
   ]
  },
  {
   "cell_type": "markdown",
   "metadata": {},
   "source": [
    "#### Funkcja zwracająca różne kolumny wzorca"
   ]
  },
  {
   "cell_type": "code",
   "execution_count": 1,
   "metadata": {},
   "outputs": [],
   "source": [
    "def get_cols(pattern):\n",
    "    cols = []\n",
    "    idxs = []\n",
    "    \n",
    "    letters = set()\n",
    "    \n",
    "    for j in range(len(pattern[0])):\n",
    "        col = []\n",
    "        for i in range(len(pattern)):\n",
    "            col += [pattern[i][j]]\n",
    "            letters.add(pattern[i][j])\n",
    "            \n",
    "        if col in cols:\n",
    "            idx = cols.index(col)\n",
    "            idxs.append(idx)\n",
    "        else:\n",
    "            cols.append(col)\n",
    "            idxs.append(len(cols) - 1)\n",
    "            \n",
    "    return cols, idxs, letters"
   ]
  },
  {
   "cell_type": "code",
   "execution_count": 2,
   "metadata": {},
   "outputs": [],
   "source": [
    "pattern = [['a','a'], \n",
    "           ['b','a']]"
   ]
  },
  {
   "cell_type": "code",
   "execution_count": 3,
   "metadata": {},
   "outputs": [
    {
     "data": {
      "text/plain": [
       "([['a', 'b'], ['a', 'a']], [0, 1], {'a', 'b'})"
      ]
     },
     "execution_count": 3,
     "metadata": {},
     "output_type": "execute_result"
    }
   ],
   "source": [
    "get_cols(pattern)"
   ]
  },
  {
   "cell_type": "markdown",
   "metadata": {},
   "source": [
    "#### Funkcja tworząca automat (pionowo)"
   ]
  },
  {
   "cell_type": "code",
   "execution_count": 4,
   "metadata": {},
   "outputs": [],
   "source": [
    "def vertical_automaton(cols, letters):\n",
    "    tt = [{}]\n",
    "    words = [[]]\n",
    "    states = [0] * len(cols)\n",
    "    \n",
    "    for j in range(len(cols[0])):\n",
    "        for i in range(len(cols)):\n",
    "            if cols[i][j] in tt[states[i]]:\n",
    "                states[i] = tt[states[i]][cols[i][j]]\n",
    "            else:\n",
    "                tt[states[i]][cols[i][j]] = len(tt)\n",
    "                words.append(words[states[i]] + [cols[i][j]])\n",
    "                states[i] = len(tt)\n",
    "                tt.append({})\n",
    "                \n",
    "                \n",
    "    for i in range(len(tt)):\n",
    "        for letter in letters:\n",
    "            if letter not in tt[i]:\n",
    "                suffix = (words[i] + [letter])[1:]\n",
    "\n",
    "                state = 0\n",
    "                for s in suffix:\n",
    "                    if s in tt[state]:\n",
    "                        state = tt[state][s]\n",
    "                    else:\n",
    "                        state = 0\n",
    "                        \n",
    "                tt[i][letter] = state\n",
    "                               \n",
    "    return tt, states"
   ]
  },
  {
   "cell_type": "code",
   "execution_count": 5,
   "metadata": {},
   "outputs": [],
   "source": [
    "cols,idx,letters = get_cols(pattern)"
   ]
  },
  {
   "cell_type": "code",
   "execution_count": 6,
   "metadata": {},
   "outputs": [
    {
     "data": {
      "text/plain": [
       "{'a', 'b'}"
      ]
     },
     "execution_count": 6,
     "metadata": {},
     "output_type": "execute_result"
    }
   ],
   "source": [
    "letters"
   ]
  },
  {
   "cell_type": "code",
   "execution_count": 7,
   "metadata": {},
   "outputs": [
    {
     "data": {
      "text/plain": [
       "([{'a': 1, 'b': 0}, {'b': 2, 'a': 3}, {'b': 0, 'a': 1}, {'b': 2, 'a': 3}],\n",
       " [2, 3])"
      ]
     },
     "execution_count": 7,
     "metadata": {},
     "output_type": "execute_result"
    }
   ],
   "source": [
    "vertical_automaton(cols, letters)"
   ]
  },
  {
   "cell_type": "markdown",
   "metadata": {},
   "source": [
    "#### Funkcja tworząca automat (poziomo)"
   ]
  },
  {
   "cell_type": "code",
   "execution_count": 8,
   "metadata": {},
   "outputs": [],
   "source": [
    "def horizontal_automaton(pattern, letters):\n",
    "    result = []\n",
    "    \n",
    "    for state in range(len(pattern) + 1):\n",
    "        result.append({})\n",
    "        for a in letters:\n",
    "            next_state = min(len(pattern), state + 1)\n",
    "            \n",
    "            while True:\n",
    "                if pattern[:next_state] == (pattern[:state] + [a])[state - next_state + 1 : state + 1]:\n",
    "                    break\n",
    "                next_state -= 1 \n",
    "\n",
    "            result[state][a] = next_state\n",
    "            \n",
    "    return result"
   ]
  },
  {
   "cell_type": "code",
   "execution_count": 9,
   "metadata": {},
   "outputs": [
    {
     "data": {
      "text/plain": [
       "[{'b': 0, 'a': 0}, {'b': 0, 'a': 0}, {'b': 0, 'a': 0}]"
      ]
     },
     "execution_count": 9,
     "metadata": {},
     "output_type": "execute_result"
    }
   ],
   "source": [
    "horizontal_automaton(pattern, letters)"
   ]
  },
  {
   "cell_type": "markdown",
   "metadata": {},
   "source": [
    "#### Główna funkcja budująca automaty (poziomo + pionowo)"
   ]
  },
  {
   "cell_type": "code",
   "execution_count": 10,
   "metadata": {},
   "outputs": [],
   "source": [
    "def get_automatons(pattern):\n",
    "    cols, idxs, letters = get_cols(pattern)\n",
    "    \n",
    "    vertical_tt, vertical_states = vertical_automaton(cols, letters)\n",
    "    \n",
    "    pattern = [vertical_states[idxs[i]] for i in range(len(idxs))]\n",
    "    \n",
    "    horizontal_tt = horizontal_automaton(pattern, vertical_states)\n",
    "    horizontal_state = len(horizontal_tt) - 1\n",
    "    \n",
    "    return (vertical_tt, horizontal_tt, horizontal_state)"
   ]
  },
  {
   "cell_type": "code",
   "execution_count": 11,
   "metadata": {},
   "outputs": [
    {
     "data": {
      "text/plain": [
       "([{'a': 1, 'b': 0}, {'b': 2, 'a': 3}, {'b': 0, 'a': 1}, {'b': 2, 'a': 3}],\n",
       " [{2: 1, 3: 0}, {2: 1, 3: 2}, {2: 1, 3: 0}],\n",
       " 2)"
      ]
     },
     "execution_count": 11,
     "metadata": {},
     "output_type": "execute_result"
    }
   ],
   "source": [
    "get_automatons(pattern)"
   ]
  },
  {
   "cell_type": "markdown",
   "metadata": {},
   "source": [
    "### Funkcja szukająca wzorca 2d"
   ]
  },
  {
   "cell_type": "code",
   "execution_count": 12,
   "metadata": {},
   "outputs": [],
   "source": [
    "def pattern_matching_2d(text, pattern, automatons=None):\n",
    "    \n",
    "    vertical_tt, horizontal_tt, horizontal_accepting_state = get_automatons(pattern) if automatons is None else automatons\n",
    "\n",
    "    result = []\n",
    "    vertical_states = []\n",
    "    \n",
    "    for i, line in enumerate(text):\n",
    "        \n",
    "        if len(line) < len(vertical_states):\n",
    "            vertical_states = vertical_states[:len(line)]\n",
    "            \n",
    "        elif len(vertical_states) < len(line):\n",
    "            vertical_states = vertical_states + [0]*(len(line) - len(vertical_states))\n",
    "            \n",
    "            \n",
    "        horizontal_state = 0\n",
    "        for j, letter in enumerate(line):\n",
    "            if letter in vertical_tt[vertical_states[j]]:\n",
    "                vertical_states[j] = vertical_tt[vertical_states[j]][letter]\n",
    "                \n",
    "            else:\n",
    "                vertical_states[j] = 0\n",
    "                \n",
    "            if vertical_states[j] in horizontal_tt[horizontal_state]:\n",
    "                horizontal_state = horizontal_tt[horizontal_state][vertical_states[j]]\n",
    "                \n",
    "                if horizontal_state == horizontal_accepting_state:\n",
    "                    result.append((i - len(pattern) + 1, j - len(pattern[0]) + 1))\n",
    "                    \n",
    "            else:\n",
    "                horizontal_state = 0\n",
    "\n",
    "    return result"
   ]
  },
  {
   "cell_type": "markdown",
   "metadata": {},
   "source": [
    "### Podstawowy test"
   ]
  },
  {
   "cell_type": "code",
   "execution_count": 13,
   "metadata": {},
   "outputs": [],
   "source": [
    "pattern2 = ['a','b']"
   ]
  },
  {
   "cell_type": "code",
   "execution_count": 14,
   "metadata": {},
   "outputs": [],
   "source": [
    "text = [['x','a','a','a','a'], \n",
    "        ['d','b','a','c','b']]"
   ]
  },
  {
   "cell_type": "code",
   "execution_count": 15,
   "metadata": {},
   "outputs": [],
   "source": [
    "result = pattern_matching_2d(text, pattern)"
   ]
  },
  {
   "cell_type": "code",
   "execution_count": 16,
   "metadata": {},
   "outputs": [
    {
     "data": {
      "text/plain": [
       "[(0, 1)]"
      ]
     },
     "execution_count": 16,
     "metadata": {},
     "output_type": "execute_result"
    }
   ],
   "source": [
    "result"
   ]
  },
  {
   "cell_type": "code",
   "execution_count": 17,
   "metadata": {},
   "outputs": [],
   "source": [
    "result2 = pattern_matching_2d(text, pattern2)"
   ]
  },
  {
   "cell_type": "code",
   "execution_count": 18,
   "metadata": {},
   "outputs": [
    {
     "data": {
      "text/plain": [
       "[(0, 1), (0, 4)]"
      ]
     },
     "execution_count": 18,
     "metadata": {},
     "output_type": "execute_result"
    }
   ],
   "source": [
    "result2"
   ]
  },
  {
   "cell_type": "markdown",
   "metadata": {},
   "source": [
    "## Zad 2. \n",
    "Znajdź w załączonym pliku \"haystack.txt\" wszyskie sytuacje, gdy taka sama litera występuje na tej samej pozycji w dwóch kolejnych linijkach. Zwróć uwagę, na nierówną długość linii w pliku."
   ]
  },
  {
   "cell_type": "code",
   "execution_count": 19,
   "metadata": {},
   "outputs": [],
   "source": [
    "with open('haystack.txt') as file:\n",
    "    text = file.readlines()"
   ]
  },
  {
   "cell_type": "code",
   "execution_count": 20,
   "metadata": {},
   "outputs": [
    {
     "name": "stdout",
     "output_type": "stream",
     "text": [
      "---------------------------------------------------------------------------------------------\n",
      "PATTERN:\n",
      " ['a', 'a']\n",
      "\n",
      "FOUND ON IDXs:\n",
      " [(0, 82), (3, 30), (5, 60), (6, 63), (20, 6), (28, 69), (31, 50), (31, 73), (33, 66), (37, 4), (52, 12), (53, 12), (53, 48), (56, 11), (57, 36), (58, 36), (59, 24), (64, 2), (64, 14), (64, 22), (65, 35), (69, 35), (76, 21), (76, 74), (77, 42), (77, 61), (78, 59), (79, 37)] \n",
      "\n",
      "---------------------------------------------------------------------------------------------\n",
      "PATTERN:\n",
      " ['b', 'b']\n",
      "\n",
      "FOUND ON IDXs:\n",
      " [no pattern found] \n",
      "\n",
      "---------------------------------------------------------------------------------------------\n",
      "PATTERN:\n",
      " ['c', 'c']\n",
      "\n",
      "FOUND ON IDXs:\n",
      " [(3, 54), (10, 45), (13, 10), (41, 0), (68, 0), (82, 41)] \n",
      "\n",
      "---------------------------------------------------------------------------------------------\n",
      "PATTERN:\n",
      " ['d', 'd']\n",
      "\n",
      "FOUND ON IDXs:\n",
      " [(37, 19)] \n",
      "\n",
      "---------------------------------------------------------------------------------------------\n",
      "PATTERN:\n",
      " ['e', 'e']\n",
      "\n",
      "FOUND ON IDXs:\n",
      " [(0, 63), (1, 8), (4, 77), (7, 65), (10, 1), (10, 64), (14, 2), (15, 43), (17, 6), (18, 27), (20, 10), (21, 61), (22, 53), (24, 3), (24, 65), (28, 67), (28, 73), (29, 38), (29, 43), (37, 48), (40, 11), (40, 26), (41, 57), (42, 36), (42, 48), (46, 52), (47, 50), (51, 31), (57, 54), (58, 50), (58, 54), (59, 73), (63, 66), (65, 69), (66, 72), (67, 17), (68, 46), (69, 15), (70, 49), (71, 38), (72, 23), (73, 27), (76, 6), (77, 6), (78, 65), (80, 6), (81, 14), (82, 47)] \n",
      "\n",
      "---------------------------------------------------------------------------------------------\n",
      "PATTERN:\n",
      " ['f', 'f']\n",
      "\n",
      "FOUND ON IDXs:\n",
      " [(30, 59), (77, 1)] \n",
      "\n",
      "---------------------------------------------------------------------------------------------\n",
      "PATTERN:\n",
      " ['g', 'g']\n",
      "\n",
      "FOUND ON IDXs:\n",
      " [no pattern found] \n",
      "\n",
      "---------------------------------------------------------------------------------------------\n",
      "PATTERN:\n",
      " ['h', 'h']\n",
      "\n",
      "FOUND ON IDXs:\n",
      " [(27, 2), (37, 2), (56, 31), (73, 12)] \n",
      "\n",
      "---------------------------------------------------------------------------------------------\n",
      "PATTERN:\n",
      " ['i', 'i']\n",
      "\n",
      "FOUND ON IDXs:\n",
      " [(1, 5), (8, 37), (9, 60), (19, 55), (31, 0), (31, 31), (44, 33), (52, 69), (55, 17), (60, 45), (68, 51), (73, 13), (77, 13)] \n",
      "\n",
      "---------------------------------------------------------------------------------------------\n",
      "PATTERN:\n",
      " ['j', 'j']\n",
      "\n",
      "FOUND ON IDXs:\n",
      " [no pattern found] \n",
      "\n",
      "---------------------------------------------------------------------------------------------\n",
      "PATTERN:\n",
      " ['k', 'k']\n",
      "\n",
      "FOUND ON IDXs:\n",
      " [no pattern found] \n",
      "\n",
      "---------------------------------------------------------------------------------------------\n",
      "PATTERN:\n",
      " ['l', 'l']\n",
      "\n",
      "FOUND ON IDXs:\n",
      " [(28, 72), (33, 45), (41, 77), (46, 61), (53, 45)] \n",
      "\n",
      "---------------------------------------------------------------------------------------------\n",
      "PATTERN:\n",
      " ['m', 'm']\n",
      "\n",
      "FOUND ON IDXs:\n",
      " [(16, 5), (28, 70), (34, 40), (34, 60), (44, 0)] \n",
      "\n",
      "---------------------------------------------------------------------------------------------\n",
      "PATTERN:\n",
      " ['n', 'n']\n",
      "\n",
      "FOUND ON IDXs:\n",
      " [(0, 83), (1, 9), (14, 54), (19, 37), (20, 56), (21, 62), (31, 1), (35, 18), (51, 32), (54, 33), (56, 13), (64, 29), (67, 35), (67, 40), (67, 57)] \n",
      "\n",
      "---------------------------------------------------------------------------------------------\n",
      "PATTERN:\n",
      " ['o', 'o']\n",
      "\n",
      "FOUND ON IDXs:\n",
      " [(4, 75), (5, 66), (6, 38), (7, 38), (10, 27), (15, 60), (27, 17), (28, 17), (30, 58), (32, 34), (33, 11), (33, 26), (41, 1), (44, 55), (50, 2), (52, 8), (53, 1), (58, 45), (71, 42), (79, 10), (81, 52)] \n",
      "\n",
      "---------------------------------------------------------------------------------------------\n",
      "PATTERN:\n",
      " ['p', 'p']\n",
      "\n",
      "FOUND ON IDXs:\n",
      " [(28, 71), (41, 18)] \n",
      "\n",
      "---------------------------------------------------------------------------------------------\n",
      "PATTERN:\n",
      " ['q', 'q']\n",
      "\n",
      "FOUND ON IDXs:\n",
      " [no pattern found] \n",
      "\n",
      "---------------------------------------------------------------------------------------------\n",
      "PATTERN:\n",
      " ['r', 'r']\n",
      "\n",
      "FOUND ON IDXs:\n",
      " [(1, 4), (6, 39), (6, 50), (7, 13), (15, 18), (17, 14), (19, 54), (20, 54), (28, 65), (31, 70), (33, 10), (33, 37), (43, 25), (46, 42), (47, 37), (52, 5), (55, 40), (60, 30), (62, 39), (67, 29), (69, 22)] \n",
      "\n",
      "---------------------------------------------------------------------------------------------\n",
      "PATTERN:\n",
      " ['s', 's']\n",
      "\n",
      "FOUND ON IDXs:\n",
      " [(3, 57), (3, 63), (4, 49), (8, 21), (9, 58), (28, 45), (29, 56), (30, 56), (37, 34), (40, 63), (45, 34), (46, 44), (49, 14), (52, 53), (54, 0), (67, 37), (70, 41), (71, 24), (79, 24)] \n",
      "\n",
      "---------------------------------------------------------------------------------------------\n",
      "PATTERN:\n",
      " ['t', 't']\n",
      "\n",
      "FOUND ON IDXs:\n",
      " [(0, 7), (1, 6), (1, 7), (3, 37), (4, 14), (4, 23), (7, 29), (8, 75), (13, 55), (15, 12), (16, 3), (19, 33), (22, 8), (23, 4), (24, 4), (27, 31), (28, 23), (28, 52), (30, 16), (35, 10), (37, 0), (41, 45), (41, 73), (46, 24), (50, 0), (51, 33), (52, 61), (54, 11), (55, 54), (58, 49), (58, 78), (59, 33), (59, 75), (61, 56), (67, 71), (69, 5), (71, 3), (72, 3), (72, 10), (72, 59), (77, 22)] \n",
      "\n",
      "---------------------------------------------------------------------------------------------\n",
      "PATTERN:\n",
      " ['u', 'u']\n",
      "\n",
      "FOUND ON IDXs:\n",
      " [no pattern found] \n",
      "\n",
      "---------------------------------------------------------------------------------------------\n",
      "PATTERN:\n",
      " ['v', 'v']\n",
      "\n",
      "FOUND ON IDXs:\n",
      " [no pattern found] \n",
      "\n",
      "---------------------------------------------------------------------------------------------\n",
      "PATTERN:\n",
      " ['w', 'w']\n",
      "\n",
      "FOUND ON IDXs:\n",
      " [(1, 3), (21, 70)] \n",
      "\n",
      "---------------------------------------------------------------------------------------------\n",
      "PATTERN:\n",
      " ['x', 'x']\n",
      "\n",
      "FOUND ON IDXs:\n",
      " [(28, 68)] \n",
      "\n",
      "---------------------------------------------------------------------------------------------\n",
      "PATTERN:\n",
      " ['y', 'y']\n",
      "\n",
      "FOUND ON IDXs:\n",
      " [(44, 5)] \n",
      "\n",
      "---------------------------------------------------------------------------------------------\n",
      "PATTERN:\n",
      " ['z', 'z']\n",
      "\n",
      "FOUND ON IDXs:\n",
      " [no pattern found] \n",
      "\n"
     ]
    }
   ],
   "source": [
    "for i in range(ord('a'), ord('z')+1):\n",
    "    pattern = [chr(i),chr(i)]\n",
    "    res = pattern_matching_2d(text, pattern)\n",
    "    print(\"---------------------------------------------------------------------------------------------\")\n",
    "    print(\"PATTERN:\\n\", pattern)\n",
    "    print(\"\\nFOUND ON IDXs:\\n\", res if len(res) > 0 else \"[no pattern found]\", \"\\n\")"
   ]
  },
  {
   "cell_type": "markdown",
   "metadata": {},
   "source": [
    "## Zad 3.\n",
    "Znajdź wszystkie wystąpienia \"th\" oraz \"t h\" w dwóch kolejnych liniach na tej samej pozycji."
   ]
  },
  {
   "cell_type": "code",
   "execution_count": 21,
   "metadata": {},
   "outputs": [
    {
     "data": {
      "text/plain": [
       "[]"
      ]
     },
     "execution_count": 21,
     "metadata": {},
     "output_type": "execute_result"
    }
   ],
   "source": [
    "pattern = [\"th\",\n",
    "           \"th\"]\n",
    "res = pattern_matching_2d(text, pattern)\n",
    "res"
   ]
  },
  {
   "cell_type": "code",
   "execution_count": 22,
   "metadata": {},
   "outputs": [
    {
     "data": {
      "text/plain": [
       "[(37, 0)]"
      ]
     },
     "execution_count": 22,
     "metadata": {},
     "output_type": "execute_result"
    }
   ],
   "source": [
    "pattern = [\"t h\",\n",
    "           \"t h\"]\n",
    "res = pattern_matching_2d(text, pattern)\n",
    "res"
   ]
  },
  {
   "cell_type": "markdown",
   "metadata": {},
   "source": [
    "Możemy sprawdzić, czy w znalezionym miejscu faktycznie znajduje się podany wzorzec."
   ]
  },
  {
   "cell_type": "code",
   "execution_count": 23,
   "metadata": {},
   "outputs": [
    {
     "name": "stdout",
     "output_type": "stream",
     "text": [
      "represen\n",
      "To the c\n",
      "t h a t \n",
      "t h a n \n",
      "problem \n",
      "A simple\n"
     ]
    }
   ],
   "source": [
    "for i in range(35,41):\n",
    "    for j in range(0,8):\n",
    "        print(text[i][j], end = \"\")\n",
    "    print()"
   ]
  },
  {
   "cell_type": "markdown",
   "metadata": {},
   "source": [
    "Zgadza się."
   ]
  },
  {
   "cell_type": "markdown",
   "metadata": {},
   "source": [
    "## Zad 4. \n",
    "Wybierz przynajmniej 3 litery (małe). Znajdź wszystkie wystąpienia tej litery w załączonym pliku \"haystack.png\""
   ]
  },
  {
   "cell_type": "markdown",
   "metadata": {},
   "source": [
    "Potrzebujemy funkcji, która skonwertuje odpowiedni obraz tak, by można było go potraktować jako zwykły pattern w powyższych funkcjach."
   ]
  },
  {
   "cell_type": "code",
   "execution_count": 24,
   "metadata": {},
   "outputs": [],
   "source": [
    "from PIL import Image"
   ]
  },
  {
   "cell_type": "code",
   "execution_count": 25,
   "metadata": {},
   "outputs": [],
   "source": [
    "def convert(filename):\n",
    "    image = Image.open(filename)\n",
    "    pixels = list(image.getdata())\n",
    "    width, height = image.size\n",
    "    text = []\n",
    "    i = width\n",
    "    for pixel in pixels:\n",
    "        if i == width:\n",
    "            i = 0\n",
    "            text.append([])\n",
    "        text[-1].append(pixel[0])\n",
    "        i += 1\n",
    "    return text"
   ]
  },
  {
   "cell_type": "code",
   "execution_count": 26,
   "metadata": {},
   "outputs": [],
   "source": [
    "text = convert('haystack.png')\n",
    "\n",
    "a = convert(\"a.png\")\n",
    "b = convert(\"b.png\")\n",
    "c = convert(\"c.png\")"
   ]
  },
  {
   "cell_type": "code",
   "execution_count": 27,
   "metadata": {},
   "outputs": [
    {
     "data": {
      "text/plain": [
       "[[255, 255, 255, 255, 255, 255, 255, 255, 255, 255, 255],\n",
       " [255, 253, 177, 74, 25, 8, 45, 149, 255, 255, 255],\n",
       " [255, 203, 0, 0, 0, 0, 0, 0, 129, 255, 255],\n",
       " [255, 206, 87, 193, 236, 241, 186, 35, 10, 242, 255],\n",
       " [255, 255, 255, 255, 255, 255, 255, 175, 0, 188, 255],\n",
       " [255, 255, 159, 60, 16, 1, 0, 0, 0, 162, 255],\n",
       " [255, 138, 0, 0, 0, 0, 0, 0, 0, 155, 255],\n",
       " [255, 38, 23, 189, 238, 252, 255, 177, 0, 155, 255],\n",
       " [255, 38, 27, 201, 249, 238, 178, 31, 0, 155, 255],\n",
       " [255, 120, 0, 0, 0, 0, 0, 89, 0, 155, 255],\n",
       " [255, 249, 123, 31, 7, 41, 152, 199, 0, 155, 255],\n",
       " [255, 255, 255, 255, 255, 255, 255, 255, 255, 255, 255]]"
      ]
     },
     "execution_count": 27,
     "metadata": {},
     "output_type": "execute_result"
    }
   ],
   "source": [
    "a"
   ]
  },
  {
   "cell_type": "markdown",
   "metadata": {},
   "source": [
    "## $a$"
   ]
  },
  {
   "cell_type": "code",
   "execution_count": 28,
   "metadata": {},
   "outputs": [],
   "source": [
    "res_a = pattern_matching_2d(text, a)"
   ]
  },
  {
   "cell_type": "markdown",
   "metadata": {},
   "source": [
    "Liczba wystąpień $a$"
   ]
  },
  {
   "cell_type": "code",
   "execution_count": 29,
   "metadata": {},
   "outputs": [
    {
     "data": {
      "text/plain": [
       "356"
      ]
     },
     "execution_count": 29,
     "metadata": {},
     "output_type": "execute_result"
    }
   ],
   "source": [
    "len(res_a)"
   ]
  },
  {
   "cell_type": "code",
   "execution_count": 30,
   "metadata": {},
   "outputs": [
    {
     "data": {
      "text/plain": [
       "[(36, 206),\n",
       " (36, 262),\n",
       " (36, 322),\n",
       " (36, 486),\n",
       " (36, 622),\n",
       " (36, 750),\n",
       " (58, 302),\n",
       " (58, 332),\n",
       " (58, 390),\n",
       " (58, 641)]"
      ]
     },
     "execution_count": 30,
     "metadata": {},
     "output_type": "execute_result"
    }
   ],
   "source": [
    "res_a[:10]"
   ]
  },
  {
   "cell_type": "markdown",
   "metadata": {},
   "source": [
    "## $b$"
   ]
  },
  {
   "cell_type": "code",
   "execution_count": 31,
   "metadata": {},
   "outputs": [],
   "source": [
    "res_b = pattern_matching_2d(text, b)"
   ]
  },
  {
   "cell_type": "markdown",
   "metadata": {},
   "source": [
    "Liczba wystąpień $b$"
   ]
  },
  {
   "cell_type": "code",
   "execution_count": 32,
   "metadata": {},
   "outputs": [
    {
     "data": {
      "text/plain": [
       "44"
      ]
     },
     "execution_count": 32,
     "metadata": {},
     "output_type": "execute_result"
    }
   ],
   "source": [
    "len(res_b)"
   ]
  },
  {
   "cell_type": "code",
   "execution_count": 33,
   "metadata": {},
   "outputs": [
    {
     "data": {
      "text/plain": [
       "[(76, 25),\n",
       " (142, 36),\n",
       " (142, 459),\n",
       " (142, 537),\n",
       " (142, 559),\n",
       " (208, 315),\n",
       " (252, 283),\n",
       " (274, 25),\n",
       " (318, 76),\n",
       " (318, 226)]"
      ]
     },
     "execution_count": 33,
     "metadata": {},
     "output_type": "execute_result"
    }
   ],
   "source": [
    "res_b[:10]"
   ]
  },
  {
   "cell_type": "markdown",
   "metadata": {},
   "source": [
    "## $c$"
   ]
  },
  {
   "cell_type": "code",
   "execution_count": 34,
   "metadata": {},
   "outputs": [],
   "source": [
    "res_c = pattern_matching_2d(text, c)"
   ]
  },
  {
   "cell_type": "markdown",
   "metadata": {},
   "source": [
    "Liczba wystąpień $c$"
   ]
  },
  {
   "cell_type": "code",
   "execution_count": 35,
   "metadata": {},
   "outputs": [
    {
     "data": {
      "text/plain": [
       "211"
      ]
     },
     "execution_count": 35,
     "metadata": {},
     "output_type": "execute_result"
    }
   ],
   "source": [
    "len(res_c)"
   ]
  },
  {
   "cell_type": "code",
   "execution_count": 36,
   "metadata": {},
   "outputs": [
    {
     "data": {
      "text/plain": [
       "[(58, 369),\n",
       " (58, 419),\n",
       " (58, 588),\n",
       " (58, 689),\n",
       " (80, 327),\n",
       " (80, 377),\n",
       " (80, 427),\n",
       " (80, 505),\n",
       " (80, 669),\n",
       " (102, 45)]"
      ]
     },
     "execution_count": 36,
     "metadata": {},
     "output_type": "execute_result"
    }
   ],
   "source": [
    "res_c[:10]"
   ]
  },
  {
   "cell_type": "markdown",
   "metadata": {},
   "source": [
    "## Zad 5.\n",
    "Znajdź wszystkie wystąpienia słowa \"p a t t e r n\" w haystack.png."
   ]
  },
  {
   "cell_type": "code",
   "execution_count": 37,
   "metadata": {},
   "outputs": [],
   "source": [
    "pattern = convert('pattern.png')"
   ]
  },
  {
   "cell_type": "code",
   "execution_count": 38,
   "metadata": {},
   "outputs": [
    {
     "data": {
      "text/plain": [
       "[(472, 181), (494, 425), (538, 239), (582, 139), (626, 245)]"
      ]
     },
     "execution_count": 38,
     "metadata": {},
     "output_type": "execute_result"
    }
   ],
   "source": [
    "pattern_matching_2d(text, pattern)"
   ]
  },
  {
   "cell_type": "markdown",
   "metadata": {},
   "source": [
    "## Zad 6. \n",
    "Porównaj czas budowania automatu i czas wyszukiwania dla różnych rozmiarów wzorca"
   ]
  },
  {
   "cell_type": "code",
   "execution_count": 39,
   "metadata": {},
   "outputs": [],
   "source": [
    "from random import randint\n",
    "from time import time\n",
    "import matplotlib.pyplot as plt"
   ]
  },
  {
   "cell_type": "code",
   "execution_count": 40,
   "metadata": {},
   "outputs": [],
   "source": [
    "with open('haystack.txt') as file:\n",
    "    text = file.readlines()"
   ]
  },
  {
   "cell_type": "markdown",
   "metadata": {},
   "source": [
    "#### Czas budowania automatu"
   ]
  },
  {
   "cell_type": "code",
   "execution_count": 41,
   "metadata": {},
   "outputs": [],
   "source": [
    "def test_building_time(size):\n",
    "    times = []\n",
    "\n",
    "    for s in size:\n",
    "        pattern = [[chr(randint(ord('a'), ord('z'))) for _ in range(s)] for _ in range(s)]\n",
    "        start = time()\n",
    "        get_automatons(pattern)\n",
    "        end = time()\n",
    "        times.append(end - start)\n",
    "        \n",
    "    return times"
   ]
  },
  {
   "cell_type": "code",
   "execution_count": 42,
   "metadata": {},
   "outputs": [],
   "source": [
    "size = [i for i in range(10,200,20)]"
   ]
  },
  {
   "cell_type": "code",
   "execution_count": 43,
   "metadata": {},
   "outputs": [],
   "source": [
    "times = test_building_time(size)"
   ]
  },
  {
   "cell_type": "code",
   "execution_count": 44,
   "metadata": {},
   "outputs": [
    {
     "data": {
      "image/png": "[encoded data removed]",
      "text/plain": [
       "<Figure size 720x720 with 1 Axes>"
      ]
     },
     "metadata": {
      "needs_background": "light"
     },
     "output_type": "display_data"
    }
   ],
   "source": [
    "plt.figure(figsize=(10,10))\n",
    "plt.plot(size,times, color=\"indianred\")\n",
    "plt.xlabel(\"side of square size\")\n",
    "plt.ylabel(\"time [s]\")\n",
    "plt.title(\"Time of automatons building\")\n",
    "plt.show()"
   ]
  },
  {
   "cell_type": "markdown",
   "metadata": {},
   "source": [
    "#### Czas wyszukiwania\n",
    "Rozważę różne rozmiary tekstu, a nie wzorca, ze względu na to, że czas budowania automatu dla większych wzorców jest bardzo długi w stosunku do czasu wyszukiwania."
   ]
  },
  {
   "cell_type": "code",
   "execution_count": 45,
   "metadata": {},
   "outputs": [],
   "source": [
    "def test_matching_time(text_size, pat_size):\n",
    "    pattern = [line[:pat_size] for line in text[:pat_size]]\n",
    "    aut = get_automatons(pattern)\n",
    "    times = []\n",
    "\n",
    "    for s in text_size:\n",
    "        text1 = [line[:s] for line in text[:s]]\n",
    "        start = time()\n",
    "        pattern_matching_2d(text1, pattern, aut)        \n",
    "        end = time()\n",
    "        times.append(end - start)\n",
    "        \n",
    "    return times"
   ]
  },
  {
   "cell_type": "code",
   "execution_count": 46,
   "metadata": {},
   "outputs": [],
   "source": [
    "text_size = [i for i in range(200,2000,200)]\n",
    "pat_size = 25"
   ]
  },
  {
   "cell_type": "code",
   "execution_count": 47,
   "metadata": {},
   "outputs": [],
   "source": [
    "text = convert('haystack.png')"
   ]
  },
  {
   "cell_type": "code",
   "execution_count": 48,
   "metadata": {},
   "outputs": [],
   "source": [
    "times = test_matching_time(text_size, pat_size)"
   ]
  },
  {
   "cell_type": "code",
   "execution_count": 49,
   "metadata": {},
   "outputs": [
    {
     "data": {
      "image/png": "[encoded data removed]",
      "text/plain": [
       "<Figure size 720x720 with 1 Axes>"
      ]
     },
     "metadata": {
      "needs_background": "light"
     },
     "output_type": "display_data"
    }
   ],
   "source": [
    "plt.figure(figsize=(10,10))\n",
    "plt.plot(text_size,times,color=\"forestgreen\")\n",
    "plt.xlabel(\"side of square size\")\n",
    "plt.ylabel(\"time [s]\")\n",
    "plt.title(\"Time of pattern matching (pattern size: 25x25)\")\n",
    "plt.show()"
   ]
  },
  {
   "cell_type": "code",
   "execution_count": 50,
   "metadata": {},
   "outputs": [],
   "source": [
    "pat_size = 100"
   ]
  },
  {
   "cell_type": "code",
   "execution_count": 51,
   "metadata": {},
   "outputs": [],
   "source": [
    "times = test_matching_time(text_size, pat_size)"
   ]
  },
  {
   "cell_type": "code",
   "execution_count": 52,
   "metadata": {
    "scrolled": true
   },
   "outputs": [
    {
     "data": {
      "image/png": "[encoded data removed]",
      "text/plain": [
       "<Figure size 720x720 with 1 Axes>"
      ]
     },
     "metadata": {
      "needs_background": "light"
     },
     "output_type": "display_data"
    }
   ],
   "source": [
    "plt.figure(figsize=(10,10))\n",
    "plt.plot(text_size,times,color=\"forestgreen\")\n",
    "plt.xlabel(\"side of square size\")\n",
    "plt.ylabel(\"time [s]\")\n",
    "plt.title(\"Time of pattern matching (pattern size: 100x100)\")\n",
    "plt.show()"
   ]
  },
  {
   "cell_type": "markdown",
   "metadata": {},
   "source": [
    "Zarówno dla wzorca $25x25$, jak i $100x100$ czasy wyszukiwania różnią się nieznacznie. Mając zbudowany automat, algorytm przegląda każdy znak tekstu tylko raz."
   ]
  },
  {
   "cell_type": "markdown",
   "metadata": {},
   "source": [
    "## Zad 7. \n",
    "Podziel plik na 2, 4 i 8 fragmentów (w poziomie) i porównaj czas przeszukiwania"
   ]
  },
  {
   "cell_type": "code",
   "execution_count": 53,
   "metadata": {},
   "outputs": [],
   "source": [
    "def test_divided(pat_size, parts):\n",
    "    pattern = [line[:pat_size] for line in text[:pat_size]]\n",
    "    \n",
    "    times = []\n",
    "    \n",
    "    for part in parts:\n",
    "        length = len(text) // part\n",
    "        intervals = [text[i * length:(i + 1) * length] for i in range(part)]\n",
    "        start = time()\n",
    "        for current_text in intervals:\n",
    "            pattern_matching_2d(current_text, pattern)\n",
    "        end = time()\n",
    "        times.append(end - start)\n",
    "        \n",
    "    return times"
   ]
  },
  {
   "cell_type": "code",
   "execution_count": 54,
   "metadata": {},
   "outputs": [],
   "source": [
    "parts = [2,4,8]"
   ]
  },
  {
   "cell_type": "code",
   "execution_count": 55,
   "metadata": {},
   "outputs": [],
   "source": [
    "times = test_divided(25, parts)"
   ]
  },
  {
   "cell_type": "code",
   "execution_count": 56,
   "metadata": {},
   "outputs": [
    {
     "data": {
      "image/png": "[encoded data removed]",
      "text/plain": [
       "<Figure size 720x720 with 1 Axes>"
      ]
     },
     "metadata": {
      "needs_background": "light"
     },
     "output_type": "display_data"
    }
   ],
   "source": [
    "plt.figure(figsize=(10,10))\n",
    "plt.plot(parts,times,marker='s',color=\"slateblue\")\n",
    "plt.xlabel(\"parts number\")\n",
    "plt.ylabel(\"time [s]\")\n",
    "plt.title(\"Time of pattern matching (pattern size: 25x25)\")\n",
    "plt.ylim(0,1.5)\n",
    "plt.show()"
   ]
  },
  {
   "cell_type": "markdown",
   "metadata": {},
   "source": [
    "Po podziale czas różni się bardzo nieznacznie. Algorytm działa liniowo."
   ]
  },
  {
   "cell_type": "code",
   "execution_count": null,
   "metadata": {},
   "outputs": [],
   "source": []
  }
 ],
 "metadata": {
  "kernelspec": {
   "display_name": "Python 3.8.1 32-bit",
   "language": "python",
   "name": "python38132bit9a120df58b394f05878c762c4c55e3da"
  },
  "language_info": {
   "codemirror_mode": {
    "name": "ipython",
    "version": 3
   },
   "file_extension": ".py",
   "mimetype": "text/x-python",
   "name": "python",
   "nbconvert_exporter": "python",
   "pygments_lexer": "ipython3",
   "version": "3.8.1"
  }
 },
 "nbformat": 4,
 "nbformat_minor": 4
}
