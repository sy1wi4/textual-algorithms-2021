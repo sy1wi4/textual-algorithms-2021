{
 "cells": [
  {
   "cell_type": "markdown",
   "metadata": {},
   "source": [
    "# Suffix structures"
   ]
  },
  {
   "cell_type": "markdown",
   "metadata": {},
   "source": [
    "## Input data"
   ]
  },
  {
   "cell_type": "code",
   "execution_count": 1,
   "metadata": {},
   "outputs": [],
   "source": [
    "text1 = \"bbbd\"\n",
    "text2 = \"aabbabd\"\n",
    "text3 = \"ababcd\"\n",
    "text4 = \"abcbccd\"\n",
    "\n",
    "with open(\"1997_714_head.txt\", \"r\", errors = \"ignore\") as f:\n",
    "    text5 = f.read()\n",
    "pattern = \"Art\""
   ]
  },
  {
   "cell_type": "markdown",
   "metadata": {},
   "source": [
    "## Data preparation\n",
    "Last char of text should be unique."
   ]
  },
  {
   "cell_type": "code",
   "execution_count": 2,
   "metadata": {},
   "outputs": [],
   "source": [
    "def check_unique_char(text):\n",
    "    letters = set(text[:-1])\n",
    "    if text[-1] in letters:\n",
    "        for i in range(33,65):\n",
    "            if i not in letters:\n",
    "                return text + chr(i)\n",
    "    else: return text"
   ]
  },
  {
   "cell_type": "code",
   "execution_count": 3,
   "metadata": {},
   "outputs": [
    {
     "data": {
      "text/plain": [
       "'abcbccd'"
      ]
     },
     "execution_count": 3,
     "metadata": {},
     "output_type": "execute_result"
    }
   ],
   "source": [
    "check_unique_char(text4)"
   ]
  },
  {
   "cell_type": "code",
   "execution_count": 4,
   "metadata": {},
   "outputs": [
    {
     "data": {
      "text/plain": [
       "'abcdc!'"
      ]
     },
     "execution_count": 4,
     "metadata": {},
     "output_type": "execute_result"
    }
   ],
   "source": [
    "check_unique_char(\"abcdc\")"
   ]
  },
  {
   "cell_type": "markdown",
   "metadata": {},
   "source": [
    "# Suffix trie"
   ]
  },
  {
   "cell_type": "code",
   "execution_count": 5,
   "metadata": {},
   "outputs": [],
   "source": [
    "class Node:\n",
    "    def __init__(self, char):\n",
    "        self.char = char\n",
    "        self.parent = None\n",
    "        self.children = {}\n",
    "        self.depth = 0\n",
    "    def __repr__(self):\n",
    "        return str(self.char)\n",
    "    "
   ]
  },
  {
   "cell_type": "code",
   "execution_count": 6,
   "metadata": {},
   "outputs": [],
   "source": [
    "def build_trie(text):\n",
    "    root = Node(None)\n",
    "    text = check_unique_char(text)\n",
    "    for i in range(len(text)):\n",
    "        curr = root\n",
    "        suffix = text[i:]\n",
    "        for ch in suffix:\n",
    "#             print(ch, curr.children)\n",
    "            if ch not in curr.children:\n",
    "                new_node = Node(ch)\n",
    "                new_node.parent = curr\n",
    "                curr.children[ch] = new_node\n",
    "\n",
    "            curr = curr.children[ch]\n",
    "    return root"
   ]
  },
  {
   "cell_type": "code",
   "execution_count": 7,
   "metadata": {},
   "outputs": [],
   "source": [
    "root = build_trie(\"aabc\")"
   ]
  },
  {
   "cell_type": "code",
   "execution_count": 8,
   "metadata": {},
   "outputs": [],
   "source": [
    "def find_substring(root, substr):\n",
    "    curr = root\n",
    "#     print(substr)\n",
    "    for ch in substr:\n",
    "        if ch not in curr.children:\n",
    "            return False\n",
    "        else:\n",
    "            curr = curr.children[ch]\n",
    "    return True"
   ]
  },
  {
   "cell_type": "markdown",
   "metadata": {},
   "source": [
    "### Tests"
   ]
  },
  {
   "cell_type": "code",
   "execution_count": 9,
   "metadata": {},
   "outputs": [
    {
     "data": {
      "text/plain": [
       "False"
      ]
     },
     "execution_count": 9,
     "metadata": {},
     "output_type": "execute_result"
    }
   ],
   "source": [
    "find_substring(root, \"zxc\")"
   ]
  },
  {
   "cell_type": "code",
   "execution_count": 10,
   "metadata": {},
   "outputs": [
    {
     "data": {
      "text/plain": [
       "True"
      ]
     },
     "execution_count": 10,
     "metadata": {},
     "output_type": "execute_result"
    }
   ],
   "source": [
    "find_substring(root, \"ab\")"
   ]
  },
  {
   "cell_type": "code",
   "execution_count": 11,
   "metadata": {},
   "outputs": [],
   "source": [
    "def test(text):\n",
    "    root = build_trie(text)\n",
    "    for i in range(0, len(text)):\n",
    "        for j in range(i, len(text)):\n",
    "            substring = text[i:j+1]\n",
    "            if not find_substring(root, substring):\n",
    "                print(\"Test failed\")\n",
    "                return False\n",
    "    return True"
   ]
  },
  {
   "cell_type": "code",
   "execution_count": 12,
   "metadata": {},
   "outputs": [
    {
     "data": {
      "text/plain": [
       "True"
      ]
     },
     "execution_count": 12,
     "metadata": {},
     "output_type": "execute_result"
    }
   ],
   "source": [
    "test(\"aaba\")"
   ]
  },
  {
   "cell_type": "code",
   "execution_count": 13,
   "metadata": {},
   "outputs": [
    {
     "name": "stdout",
     "output_type": "stream",
     "text": [
      "True\n",
      "True\n",
      "True\n",
      "True\n"
     ]
    }
   ],
   "source": [
    "print(test(text1))\n",
    "print(test(text2))\n",
    "print(test(text3))\n",
    "print(test(text4))\n",
    "# print(test(text5))"
   ]
  },
  {
   "cell_type": "markdown",
   "metadata": {},
   "source": [
    "### Build time of suffix trie - $O(n^2)$\n",
    "## Execution time"
   ]
  },
  {
   "cell_type": "code",
   "execution_count": 14,
   "metadata": {},
   "outputs": [],
   "source": [
    "import matplotlib.pyplot as plt\n",
    "import time\n",
    "import string\n",
    "import random"
   ]
  },
  {
   "cell_type": "markdown",
   "metadata": {},
   "source": [
    "#### Given data"
   ]
  },
  {
   "cell_type": "code",
   "execution_count": 15,
   "metadata": {},
   "outputs": [
    {
     "name": "stdout",
     "output_type": "stream",
     "text": [
      "Execution time: 0.0\n",
      "Execution time: 0.0\n",
      "Execution time: 0.0\n",
      "Execution time: 0.0\n",
      "Execution time: 15.924434900283813\n"
     ]
    }
   ],
   "source": [
    "texts = [text1,text2,text3,text4,text5]\n",
    "\n",
    "for text in texts:\n",
    "    start = time.time()\n",
    "    build_trie(text)\n",
    "    end = time.time()\n",
    "    print(\"Execution time:\",end - start)  "
   ]
  },
  {
   "cell_type": "markdown",
   "metadata": {},
   "source": [
    "#### Random data"
   ]
  },
  {
   "cell_type": "code",
   "execution_count": 29,
   "metadata": {},
   "outputs": [],
   "source": [
    "times = []\n",
    "step = 30\n",
    "el = 50\n",
    "\n",
    "n = [step * i for i in range(1,el)]\n",
    "\n",
    "for i in range(1,el):\n",
    "    letters = string.ascii_lowercase\n",
    "    text = ''.join(random.choice(letters) for i in range(step * i))\n",
    "#     print(text)\n",
    "    start = time.time()\n",
    "    build_trie(text)\n",
    "    end = time.time()\n",
    "    times.append(end - start)  "
   ]
  },
  {
   "cell_type": "code",
   "execution_count": 30,
   "metadata": {},
   "outputs": [
    {
     "data": {
      "text/plain": [
       "[<matplotlib.lines.Line2D at 0x1e488a30>]"
      ]
     },
     "execution_count": 30,
     "metadata": {},
     "output_type": "execute_result"
    },
    {
     "data": {
      "image/png": "[encoded data removed]",
      "text/plain": [
       "<Figure size 432x288 with 1 Axes>"
      ]
     },
     "metadata": {
      "needs_background": "light"
     },
     "output_type": "display_data"
    }
   ],
   "source": [
    "plt.xlabel('n')\n",
    "plt.ylabel('time [s]')\n",
    "plt.plot(n, times, label ='Suffix trie building')"
   ]
  },
  {
   "cell_type": "markdown",
   "metadata": {},
   "source": [
    "As in the plot above, dependence of execution time and length of text is quadratic."
   ]
  },
  {
   "cell_type": "markdown",
   "metadata": {},
   "source": [
    "# Suffix tree"
   ]
  },
  {
   "cell_type": "code",
   "execution_count": 19,
   "metadata": {},
   "outputs": [],
   "source": [
    "# Pokonało mnie :C"
   ]
  }
 ],
 "metadata": {
  "kernelspec": {
   "display_name": "Python 3.8.1 32-bit",
   "language": "python",
   "name": "python38132bit9a120df58b394f05878c762c4c55e3da"
  },
  "language_info": {
   "codemirror_mode": {
    "name": "ipython",
    "version": 3
   },
   "file_extension": ".py",
   "mimetype": "text/x-python",
   "name": "python",
   "nbconvert_exporter": "python",
   "pygments_lexer": "ipython3",
   "version": "3.8.1"
  }
 },
 "nbformat": 4,
 "nbformat_minor": 4
}
