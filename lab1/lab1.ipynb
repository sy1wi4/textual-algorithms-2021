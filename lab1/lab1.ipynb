{
 "cells": [
  {
   "cell_type": "markdown",
   "metadata": {},
   "source": [
    "# Pattern matching algorithms"
   ]
  },
  {
   "cell_type": "markdown",
   "metadata": {},
   "source": [
    "## 1. Naive\n",
    "#### Complexity: \n",
    "$O(m(n-m+1))$"
   ]
  },
  {
   "cell_type": "code",
   "execution_count": 1,
   "metadata": {},
   "outputs": [],
   "source": [
    "def naive_string_matching(text, pattern):\n",
    "    res = []\n",
    "    for s in range(0, len(text) - len(pattern) + 1):\n",
    "        if(pattern == text[s:s+len(pattern)]):\n",
    "            res.append(s)\n",
    "#     print(\"Pattern at index(es): \", res)\n",
    "    return res"
   ]
  },
  {
   "cell_type": "code",
   "execution_count": 2,
   "metadata": {},
   "outputs": [
    {
     "data": {
      "text/plain": [
       "[2]"
      ]
     },
     "execution_count": 2,
     "metadata": {},
     "output_type": "execute_result"
    }
   ],
   "source": [
    "naive_string_matching(\"ababc\", \"abc\")"
   ]
  },
  {
   "cell_type": "code",
   "execution_count": 3,
   "metadata": {},
   "outputs": [
    {
     "data": {
      "text/plain": [
       "[1, 7]"
      ]
     },
     "execution_count": 3,
     "metadata": {},
     "output_type": "execute_result"
    }
   ],
   "source": [
    "naive_string_matching(\"sylwiasylwiasy\", \"ylw\")"
   ]
  },
  {
   "cell_type": "markdown",
   "metadata": {},
   "source": [
    "## 2. Finite automata\n",
    "#### Build transition table (TT): \n",
    "TT is table of size $(M+1)$ x $N$ where $M$ is length of pattern and $N$ is number of characters in pattern.\n",
    "\n",
    "In given state $S$ and character $X$ next state (TT[$S$][$X$]) is length of longest prefix of pattern that is also suffix of pattern[$0 ... S-1$]$X$ (first $S$ letters of pattern concatenated with $X$)\n",
    "\n",
    "#### Preprocessing complexity: \n",
    "$O(m^3|\\Sigma|$), where $|\\Sigma|$ is equals to alphabet size\n",
    "\n",
    "#### Algorithm:\n",
    "At every step consider next letter of given text and get next state from built TT (starting from state 0) and move to it.\n",
    "Pattern is found if we reach last state ($M$).\n",
    "\n",
    "#### Matching complexity:\n",
    "$O(n)$"
   ]
  },
  {
   "cell_type": "code",
   "execution_count": 4,
   "metadata": {},
   "outputs": [],
   "source": [
    "import re"
   ]
  },
  {
   "cell_type": "code",
   "execution_count": 5,
   "metadata": {},
   "outputs": [],
   "source": [
    "def transition_table(pattern):\n",
    "    result = []\n",
    "\n",
    "    letters = set()\n",
    "\n",
    "    for l in pattern:\n",
    "        letters.add(l)\n",
    "\n",
    "    for state in range(0, len(pattern) + 1):\n",
    "        result.append({})\n",
    "        for a in letters:\n",
    "            # max possible next state \n",
    "            next_state = min(len(pattern), state + 1)\n",
    "            \n",
    "            while not (re.search(f\"{pattern[:next_state]}$\", pattern[:state] + a)):\n",
    "                next_state -= 1\n",
    "                \n",
    "            result[state][a] = next_state   \n",
    "    return result"
   ]
  },
  {
   "cell_type": "code",
   "execution_count": 6,
   "metadata": {},
   "outputs": [
    {
     "name": "stdout",
     "output_type": "stream",
     "text": [
      "{'m': 0, 'k': 1, 'a': 0}\n",
      "{'m': 0, 'k': 1, 'a': 2}\n",
      "{'m': 3, 'k': 1, 'a': 0}\n",
      "{'m': 0, 'k': 4, 'a': 0}\n",
      "{'m': 0, 'k': 1, 'a': 2}\n"
     ]
    }
   ],
   "source": [
    "delta = transition_table(\"kamk\")\n",
    "for i in delta:\n",
    "    print(i)"
   ]
  },
  {
   "cell_type": "code",
   "execution_count": 7,
   "metadata": {},
   "outputs": [],
   "source": [
    "def fa_string_matching(text, pattern, delta = False):\n",
    "    res = []\n",
    "    \n",
    "    if not delta: delta = transition_table(pattern)\n",
    "        \n",
    "    state = 0\n",
    "    for s in range(0, len(text)):\n",
    "        # check if given letter s is present in pattern\n",
    "        next_state = delta[state].get(text[s])\n",
    "        if next_state is not None:\n",
    "            state = next_state\n",
    "            if(state == len(pattern)):\n",
    "                res.append(s + 1 - state)\n",
    "#     print(\"Pattern at index(es): \", res)\n",
    "    return res"
   ]
  },
  {
   "cell_type": "code",
   "execution_count": 8,
   "metadata": {},
   "outputs": [
    {
     "data": {
      "text/plain": [
       "[1, 7]"
      ]
     },
     "execution_count": 8,
     "metadata": {},
     "output_type": "execute_result"
    }
   ],
   "source": [
    "fa_string_matching(\"sylwiasylwiasy\", \"ylw\")"
   ]
  },
  {
   "cell_type": "markdown",
   "metadata": {},
   "source": [
    "## 3. KMP\n",
    "#### Build auxiliary LPS array:\n",
    "LPS - Longest Proper Prefix that is also Suffix\n",
    "LPS[$i$] stores length of longest proper prefix that is suffix of pattern[$0...i$]\n",
    "\n",
    "#### Preprocessing complexity:\n",
    "$O(m)$\n",
    "\n",
    "#### Algorithm:\n",
    "Increment indexes $q$ and $i$ while pattern[$q$] and text[$i$] keep matching/\n",
    "If there is mismatch ...\n",
    "\n",
    "#### Matching complexity:\n",
    "$O(n)$"
   ]
  },
  {
   "cell_type": "code",
   "execution_count": 9,
   "metadata": {},
   "outputs": [],
   "source": [
    "def prefix_function(pattern):\n",
    "    lps = [None] * len(pattern)\n",
    "    lps[0] = 0\n",
    "    k = 0\n",
    "    idx = 1\n",
    "    for q in range(1, len(pattern)):\n",
    "        while(k > 0 and pattern[k] != pattern[q]):\n",
    "            k = lps[k-1]\n",
    "        if(pattern[k] == pattern[q]):\n",
    "            k = k + 1\n",
    "        lps[idx] = k\n",
    "        idx += 1\n",
    "    return lps"
   ]
  },
  {
   "cell_type": "code",
   "execution_count": 10,
   "metadata": {},
   "outputs": [],
   "source": [
    "def kmp_string_matching(text, pattern, lps = False):\n",
    "    res = []\n",
    "    if not lps: lps = prefix_function(pattern)\n",
    "    q = 0\n",
    "    for i in range(0, len(text)):\n",
    "        while(q > 0 and pattern[q] != text[i]):\n",
    "            q = lps[q-1]\n",
    "        if(pattern[q] == text[i]):\n",
    "            q = q + 1\n",
    "        if(q == len(pattern)):\n",
    "            res.append(i + 1 - q)\n",
    "            q = lps[q-1]\n",
    "#     print(\"Pattern at index(es): \", res)\n",
    "    return res"
   ]
  },
  {
   "cell_type": "code",
   "execution_count": 11,
   "metadata": {},
   "outputs": [
    {
     "data": {
      "text/plain": [
       "[0, 0, 0]"
      ]
     },
     "execution_count": 11,
     "metadata": {},
     "output_type": "execute_result"
    }
   ],
   "source": [
    "prefix_function(\"ylw\")"
   ]
  },
  {
   "cell_type": "code",
   "execution_count": 12,
   "metadata": {},
   "outputs": [
    {
     "data": {
      "text/plain": [
       "[1, 7]"
      ]
     },
     "execution_count": 12,
     "metadata": {},
     "output_type": "execute_result"
    }
   ],
   "source": [
    "kmp_string_matching(\"sylwiasylwiasy\", \"ylw\")"
   ]
  },
  {
   "cell_type": "markdown",
   "metadata": {},
   "source": [
    "### Algorithms comparison"
   ]
  },
  {
   "cell_type": "code",
   "execution_count": 13,
   "metadata": {},
   "outputs": [],
   "source": [
    "with open(\"1997_714.txt\", \"r\", errors = \"ignore\") as f:\n",
    "    text = f.read()\n",
    "pattern = \"Art\""
   ]
  },
  {
   "cell_type": "code",
   "execution_count": 14,
   "metadata": {},
   "outputs": [
    {
     "data": {
      "text/plain": [
       "[675,\n",
       " 976,\n",
       " 1665,\n",
       " 2614,\n",
       " 5703,\n",
       " 6079,\n",
       " 10923,\n",
       " 11580,\n",
       " 15144,\n",
       " 16800,\n",
       " 17127,\n",
       " 24506,\n",
       " 28085,\n",
       " 28684,\n",
       " 29378,\n",
       " 31974,\n",
       " 32644,\n",
       " 33043,\n",
       " 33922,\n",
       " 35078,\n",
       " 37790,\n",
       " 39515,\n",
       " 40362,\n",
       " 43034,\n",
       " 44860,\n",
       " 51049,\n",
       " 53106,\n",
       " 56282,\n",
       " 57672,\n",
       " 59520,\n",
       " 60705,\n",
       " 62198,\n",
       " 63645,\n",
       " 64495,\n",
       " 65449,\n",
       " 66540,\n",
       " 70136,\n",
       " 70756,\n",
       " 71376,\n",
       " 72254,\n",
       " 73969,\n",
       " 74409,\n",
       " 74943,\n",
       " 75513,\n",
       " 76671,\n",
       " 78181,\n",
       " 78868,\n",
       " 79263,\n",
       " 80089,\n",
       " 80798,\n",
       " 81059,\n",
       " 82528,\n",
       " 83572,\n",
       " 88537,\n",
       " 89650,\n",
       " 90201,\n",
       " 92748,\n",
       " 93406]"
      ]
     },
     "execution_count": 14,
     "metadata": {},
     "output_type": "execute_result"
    }
   ],
   "source": [
    "naive_string_matching(text, pattern)"
   ]
  },
  {
   "cell_type": "code",
   "execution_count": 15,
   "metadata": {},
   "outputs": [
    {
     "data": {
      "text/plain": [
       "[675,\n",
       " 976,\n",
       " 1665,\n",
       " 2614,\n",
       " 5703,\n",
       " 6079,\n",
       " 10923,\n",
       " 11580,\n",
       " 15144,\n",
       " 16800,\n",
       " 17127,\n",
       " 24506,\n",
       " 28085,\n",
       " 28684,\n",
       " 29378,\n",
       " 31974,\n",
       " 32644,\n",
       " 33043,\n",
       " 33922,\n",
       " 35078,\n",
       " 37790,\n",
       " 39515,\n",
       " 40362,\n",
       " 43034,\n",
       " 44860,\n",
       " 51049,\n",
       " 53106,\n",
       " 56282,\n",
       " 57672,\n",
       " 59520,\n",
       " 60705,\n",
       " 62198,\n",
       " 63645,\n",
       " 64495,\n",
       " 65449,\n",
       " 66540,\n",
       " 70136,\n",
       " 70756,\n",
       " 71376,\n",
       " 72254,\n",
       " 73969,\n",
       " 74409,\n",
       " 74943,\n",
       " 75513,\n",
       " 76671,\n",
       " 78181,\n",
       " 78868,\n",
       " 79263,\n",
       " 80089,\n",
       " 80798,\n",
       " 81059,\n",
       " 82528,\n",
       " 83572,\n",
       " 88537,\n",
       " 89650,\n",
       " 90201,\n",
       " 92748,\n",
       " 93406,\n",
       " 243959,\n",
       " 250724,\n",
       " 252437]"
      ]
     },
     "execution_count": 15,
     "metadata": {},
     "output_type": "execute_result"
    }
   ],
   "source": [
    "fa_string_matching(text, pattern)"
   ]
  },
  {
   "cell_type": "code",
   "execution_count": 16,
   "metadata": {},
   "outputs": [
    {
     "data": {
      "text/plain": [
       "[675,\n",
       " 976,\n",
       " 1665,\n",
       " 2614,\n",
       " 5703,\n",
       " 6079,\n",
       " 10923,\n",
       " 11580,\n",
       " 15144,\n",
       " 16800,\n",
       " 17127,\n",
       " 24506,\n",
       " 28085,\n",
       " 28684,\n",
       " 29378,\n",
       " 31974,\n",
       " 32644,\n",
       " 33043,\n",
       " 33922,\n",
       " 35078,\n",
       " 37790,\n",
       " 39515,\n",
       " 40362,\n",
       " 43034,\n",
       " 44860,\n",
       " 51049,\n",
       " 53106,\n",
       " 56282,\n",
       " 57672,\n",
       " 59520,\n",
       " 60705,\n",
       " 62198,\n",
       " 63645,\n",
       " 64495,\n",
       " 65449,\n",
       " 66540,\n",
       " 70136,\n",
       " 70756,\n",
       " 71376,\n",
       " 72254,\n",
       " 73969,\n",
       " 74409,\n",
       " 74943,\n",
       " 75513,\n",
       " 76671,\n",
       " 78181,\n",
       " 78868,\n",
       " 79263,\n",
       " 80089,\n",
       " 80798,\n",
       " 81059,\n",
       " 82528,\n",
       " 83572,\n",
       " 88537,\n",
       " 89650,\n",
       " 90201,\n",
       " 92748,\n",
       " 93406]"
      ]
     },
     "execution_count": 16,
     "metadata": {},
     "output_type": "execute_result"
    }
   ],
   "source": [
    "kmp_string_matching(text, pattern)"
   ]
  },
  {
   "cell_type": "markdown",
   "metadata": {},
   "source": [
    "## Execution time test\n"
   ]
  },
  {
   "cell_type": "code",
   "execution_count": 17,
   "metadata": {},
   "outputs": [],
   "source": [
    "import time"
   ]
  },
  {
   "cell_type": "code",
   "execution_count": 18,
   "metadata": {},
   "outputs": [],
   "source": [
    "def ex_test(text, pattern):\n",
    "    start = time.time()\n",
    "    naive_string_matching(text, pattern)\n",
    "    end = time.time()\n",
    "    print(\"Naive: \", end - start)\n",
    "    \n",
    "    start = time.time()\n",
    "    fa_string_matching(text, pattern)\n",
    "    end = time.time()\n",
    "    print(\"FA: \", end - start)\n",
    "    \n",
    "    start = time.time()\n",
    "    kmp_string_matching(text, pattern)\n",
    "    end = time.time()\n",
    "    print(\"KMP: \", end - start)"
   ]
  },
  {
   "cell_type": "code",
   "execution_count": 19,
   "metadata": {},
   "outputs": [],
   "source": [
    "with open(\"1997_714.txt\", \"r\", errors = \"ignore\") as f:\n",
    "    text = f.read()"
   ]
  },
  {
   "cell_type": "code",
   "execution_count": 20,
   "metadata": {},
   "outputs": [
    {
     "name": "stdout",
     "output_type": "stream",
     "text": [
      "Naive:  0.08089756965637207\n",
      "FA:  0.043701171875\n",
      "KMP:  0.06016182899475098\n"
     ]
    }
   ],
   "source": [
    "ex_test(text, \"Art\")"
   ]
  },
  {
   "cell_type": "markdown",
   "metadata": {},
   "source": [
    "### Execution time of 2. and 3. algorithm at least 5 times shorter than naive (without preprocessing)\n",
    "Obs: In case where text has many matching letters with pattern followed by mismatching letter naive algorithm is really slow.\n",
    "Another worst case is when all letters in text and in pattern are the same."
   ]
  },
  {
   "cell_type": "code",
   "execution_count": 21,
   "metadata": {},
   "outputs": [],
   "source": [
    "def ex_test_without_prep(text, pattern):\n",
    "    start = time.time()\n",
    "    naive_string_matching(text, pattern)\n",
    "    end = time.time()\n",
    "    naive_time = end - start\n",
    "    print(\"Naive:\", naive_time)\n",
    "    \n",
    "    delta = transition_table(pattern)\n",
    "    start = time.time()\n",
    "    fa_string_matching(text, pattern, delta)\n",
    "    end = time.time()\n",
    "    FA_time = end - start\n",
    "    print(\"FA:   \", FA_time)\n",
    "    \n",
    "    lps = prefix_function(pattern)\n",
    "    start = time.time()\n",
    "    kmp_string_matching(text, pattern, lps)\n",
    "    end = time.time()\n",
    "    KMP_time = end - start\n",
    "    print(\"KMP:  \", KMP_time)\n",
    "    \n",
    "    print(\"Naive / FA ratio:\", round(naive_time/FA_time, 3))\n",
    "    print(\"Naive / KMP ratio:\", round(naive_time/KMP_time, 3))"
   ]
  },
  {
   "cell_type": "code",
   "execution_count": 22,
   "metadata": {},
   "outputs": [],
   "source": [
    "# TODO!!!\n",
    "\n",
    "text = \"a\"*1000\n",
    "pattern = \"a\"*600 + \"b\""
   ]
  },
  {
   "cell_type": "code",
   "execution_count": 23,
   "metadata": {},
   "outputs": [
    {
     "name": "stdout",
     "output_type": "stream",
     "text": [
      "Naive: 0.0009984970092773438\n",
      "FA:    0.0009949207305908203\n",
      "KMP:   0.000997304916381836\n",
      "Naive / FA ratio: 1.004\n",
      "Naive / KMP ratio: 1.001\n"
     ]
    }
   ],
   "source": [
    "ex_test_without_prep(text, pattern)"
   ]
  },
  {
   "cell_type": "markdown",
   "metadata": {},
   "source": [
    "### Execution time of building transition table (2.) is at least 5 times longer than building LPS array (3.)"
   ]
  },
  {
   "cell_type": "code",
   "execution_count": 24,
   "metadata": {},
   "outputs": [],
   "source": [
    "def ex_time_prep(text, pattern):\n",
    "    start = time.time()\n",
    "    delta = transition_table(pattern)\n",
    "    end = time.time()\n",
    "    FA_time = end - start\n",
    "    print(\"FA prep:   \", FA_time)\n",
    "    \n",
    "    start = time.time()\n",
    "    lps = prefix_function(pattern)\n",
    "    end = time.time()\n",
    "    KMP_time = end - start\n",
    "    print(\"KMP prep:  \", KMP_time)\n",
    "    \n",
    "    print(\"FA prep / KMP prep ratio:\", round(FA_time/KMP_time, 3))"
   ]
  },
  {
   "cell_type": "code",
   "execution_count": 25,
   "metadata": {},
   "outputs": [],
   "source": [
    "text = \"a\"*100\n",
    "pattern = \"asbweqduvnakslgjpuogls\"*20"
   ]
  },
  {
   "cell_type": "code",
   "execution_count": 28,
   "metadata": {},
   "outputs": [
    {
     "name": "stdout",
     "output_type": "stream",
     "text": [
      "FA prep:    4.276195287704468\n",
      "KMP prep:   0.0009982585906982422\n",
      "FA prep / KMP prep ratio: 4283.655\n"
     ]
    }
   ],
   "source": [
    "ex_time_prep(text, pattern)"
   ]
  },
  {
   "cell_type": "code",
   "execution_count": null,
   "metadata": {},
   "outputs": [],
   "source": []
  },
  {
   "cell_type": "code",
   "execution_count": 29,
   "metadata": {},
   "outputs": [],
   "source": [
    "# DOKONCZY: opis KMP i znalezc text + pattern 5 * szybszy + fa chyba sie zdupcyło XDXD"
   ]
  }
 ],
 "metadata": {
  "kernelspec": {
   "display_name": "Python 3.8.1 32-bit",
   "language": "python",
   "name": "python38132bit9a120df58b394f05878c762c4c55e3da"
  },
  "language_info": {
   "codemirror_mode": {
    "name": "ipython",
    "version": 3
   },
   "file_extension": ".py",
   "mimetype": "text/x-python",
   "name": "python",
   "nbconvert_exporter": "python",
   "pygments_lexer": "ipython3",
   "version": "3.8.1"
  }
 },
 "nbformat": 4,
 "nbformat_minor": 4
}
