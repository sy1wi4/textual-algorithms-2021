{
 "cells": [
  {
   "cell_type": "markdown",
   "metadata": {},
   "source": [
    "# Edit distance"
   ]
  },
  {
   "cell_type": "markdown",
   "metadata": {},
   "source": [
    "Zadanie dotyczy wykorzystania odległości edycyjnej.\n",
    "\n",
    "1. Zaimplementuj algorytm obliczania odległości edycyjnej w taki sposób, aby możliwe było określenie przynajmniej jednej sekwencji edycji (dodanie, usunięcie, zmiana znaku), która pozwala w minimalnej liczbie kroków, przekształcić jeden łańcuch w drugi.\n",
    "2. Na podstawie poprzedniego punktu zaimplementuj prostą wizualizację działania algorytmu, poprzez wskazanie kolejnych wersji pierwszego łańcucha, w których dokonywana jest określona zmiana. \"Wizualizacja\" może działać w trybie tekstowym. Np. zmiana łańcuch \"los\" w \"kloc\" może być zrealizowana następująco:\n",
    "        *k*los (dodanie litery k)\n",
    "        klo*c* (zamiana s->c)\n",
    "3. Przedstaw wynik działania algorytmu z p. 2 dla następujących par łańcuchów:\n",
    "        los - kloc\n",
    "        Łódź - Lodz\n",
    "        kwintesencja - quintessence\n",
    "        ATGAATCTTACCGCCTCG - ATGAGGCTCTGGCCCCTG\n",
    "       \n",
    "4. Zaimplementuj algorytm obliczania najdłuższego wspólnego podciągu dla pary ciągów elementów.\n",
    "5. Korzystając z gotowego tokenizera (np. spaCy - https://spacy.io/api/tokenizer) dokonaj podziału załączonego tekstu na tokeny.\n",
    "6. Stwórz 2 wersje załączonego tekstu, w których usunięto 3% losowych tokenów.\n",
    "7. Oblicz długość najdłuższego podciągu wspólnych tokenów dla tych tekstów.\n",
    "8. Korzystając z algorytmu z punktu 4 skonstruuj narzędzie, o działaniu podobnym do narzędzia diff, tzn. wskazującego w dwóch plikach linie, które się różnią. Na wyjściu narzędzia powinny znaleźć się elementy, które nie należą do najdłuższego wspólnego podciągu. Należy wskazać skąd dana linia pochodzi (< > - pierwszy/drugi plik) oraz numer linii w danym pliku.\n",
    "9. Przedstaw wynik działania narzędzia na tekstach z punktu 6. Zwróć uwagę na dodanie znaków przejścia do nowej linii, które są usuwane w trakcie tokenizacji."
   ]
  },
  {
   "cell_type": "markdown",
   "metadata": {},
   "source": [
    "## Zad 1. "
   ]
  },
  {
   "cell_type": "code",
   "execution_count": 1,
   "metadata": {},
   "outputs": [],
   "source": [
    "def delta1(a,b):\n",
    "    if a == b:\n",
    "        return 0\n",
    "    else: return 1"
   ]
  },
  {
   "cell_type": "code",
   "execution_count": 2,
   "metadata": {},
   "outputs": [],
   "source": [
    "def get_edit_table(str1, str2, delta = delta1):\n",
    "    m = len(str1)\n",
    "    n = len(str2)\n",
    "    \n",
    "    edit_table = [[0] * (n + 1) for _ in range(m + 1)]\n",
    "    for i in range(m + 1):\n",
    "        for j in range(n + 1):\n",
    "            \n",
    "            # insert all letters\n",
    "            if i == 0:\n",
    "                edit_table[i][j] = j\n",
    "                \n",
    "            # remove all letters\n",
    "            elif j == 0:\n",
    "                edit_table[i][j] = i\n",
    "                \n",
    "            else:\n",
    "                d = delta(str1[i-1],str2[j-1])\n",
    "                edit_table[i][j] = min(edit_table[i][j-1] + 1,   # insert\n",
    "                                       edit_table[i-1][j] + 1,   # remove\n",
    "                                       edit_table[i-1][j-1] + d) # replace or do nothing\n",
    "                                       \n",
    "    return edit_table"
   ]
  },
  {
   "cell_type": "code",
   "execution_count": 3,
   "metadata": {},
   "outputs": [
    {
     "data": {
      "text/plain": [
       "[[0, 1, 2, 3, 4, 5, 6],\n",
       " [1, 0, 1, 2, 3, 4, 5],\n",
       " [2, 1, 0, 1, 2, 3, 4],\n",
       " [3, 2, 1, 0, 1, 2, 3],\n",
       " [4, 3, 2, 1, 0, 1, 2]]"
      ]
     },
     "execution_count": 3,
     "metadata": {},
     "output_type": "execute_result"
    }
   ],
   "source": [
    "get_edit_table(\"abcd\",\"abcdab\")"
   ]
  },
  {
   "cell_type": "code",
   "execution_count": 4,
   "metadata": {},
   "outputs": [],
   "source": [
    "def edit_distance(str1, str2, delta = delta1):\n",
    "    return get_edit_table(str1, str2, delta)[-1][-1]"
   ]
  },
  {
   "cell_type": "code",
   "execution_count": 5,
   "metadata": {},
   "outputs": [],
   "source": [
    "def get_path(a,b,edit_table,delta = delta1):\n",
    "    seq = []\n",
    "    pos = []  # position in b (zad 9.) \n",
    "    x = len(a)\n",
    "    y = len(b)\n",
    "    \n",
    "    while x > 0 or y > 0:\n",
    "        current = edit_table[x][y]\n",
    "        \n",
    "        if edit_table[x-1][y] + 1 == current:\n",
    "            seq.append('REMOVE')\n",
    "            x -= 1\n",
    "        elif edit_table[x][y-1] + 1 == current:\n",
    "            seq.append('INSERT')\n",
    "            y -= 1\n",
    "        elif edit_table[x-1][y-1] == current:\n",
    "            seq.append('NOTHING')\n",
    "            x -= 1\n",
    "            y -= 1\n",
    "        else:\n",
    "            seq.append('REPLACE')\n",
    "            x -= 1\n",
    "            y -= 1\n",
    "        pos.append(y)\n",
    "\n",
    "    pos.reverse()         \n",
    "    seq.reverse()\n",
    "    return seq,pos"
   ]
  },
  {
   "cell_type": "markdown",
   "metadata": {},
   "source": [
    "## Zad 2."
   ]
  },
  {
   "cell_type": "code",
   "execution_count": 6,
   "metadata": {},
   "outputs": [],
   "source": [
    "def show_operations(a,b,path):\n",
    "    i = j = 0\n",
    "    current = 1\n",
    "    print(\"\\n-------- OPERATIONS ------------------\")\n",
    "    for op in path:\n",
    "        if op == 'REMOVE':\n",
    "            print(str(current) +\".\", \"\".join(\"REMOVE:\".ljust(12)), a[:i] + \"[{}]\".format(a[i]), a[i+1:])\n",
    "            a = a[:i] + a[i+1:]\n",
    "            print(\"\".join(\"   now:\".ljust(15)), a,\"\\n\")\n",
    "            current += 1\n",
    "            continue\n",
    "            \n",
    "        elif op == 'INSERT':\n",
    "            print(str(current) +\".\", \"\".join(\"INSERT:\".ljust(12)), a[:j] + \"[{}]\".format(b[j]) + a[j:])\n",
    "            a = a[:j] + b[j] + a[j:]\n",
    "            print(\"\".join(\"   now:\".ljust(15)), a,\"\\n\")\n",
    "            current += 1\n",
    "            \n",
    "        elif op == 'REPLACE':\n",
    "            print(str(current) +\".\", \"\".join(\"REPLACE:\".ljust(12)), a[:i] + \"[{x}->{y}]\".format(x=a[i], y=b[j]) + a[i+1:])\n",
    "            a = a[:j] + b[j] + a[j+1:]\n",
    "            print(\"\".join(\"   now:\".ljust(15)), a,\"\\n\")\n",
    "            current += 1\n",
    "            \n",
    "        i += 1\n",
    "        j += 1\n",
    "        \n",
    "    print()\n",
    "    print()"
   ]
  },
  {
   "cell_type": "markdown",
   "metadata": {},
   "source": [
    "## Zad 3."
   ]
  },
  {
   "cell_type": "code",
   "execution_count": 7,
   "metadata": {},
   "outputs": [],
   "source": [
    "a = \"los\"\n",
    "b = \"kloc\"\n",
    "\n",
    "c = \"Łódź\"\n",
    "d = \"Lodz\"\n",
    "\n",
    "e = \"kwintesencja\"\n",
    "f = \"quintessence\"\n",
    "\n",
    "g = \"ATGAATCTTACCGCCTCG\"\n",
    "h = \"ATGAGGCTCTGGCCCCTG\"\n",
    "\n",
    "words = [(a,b), (c,d), (e,f), (g,h)]"
   ]
  },
  {
   "cell_type": "code",
   "execution_count": 8,
   "metadata": {},
   "outputs": [],
   "source": [
    "def test():\n",
    "    for (x,y) in words:\n",
    "        edit_table = get_edit_table(x,y)\n",
    "        dist = edit_table[-1][-1]\n",
    "        print('\\033[1m' + \"EDIT:\",x,\"->\",y)\n",
    "        print('\\033[0m' + \"distance:\", dist)\n",
    "        path = get_path(x,y,edit_table)[0]\n",
    "        show_operations(x,y,path)"
   ]
  },
  {
   "cell_type": "code",
   "execution_count": 9,
   "metadata": {},
   "outputs": [
    {
     "name": "stdout",
     "output_type": "stream",
     "text": [
      "\u001b[1mEDIT: los -> kloc\n",
      "\u001b[0mdistance: 2\n",
      "\n",
      "-------- OPERATIONS ------------------\n",
      "1. INSERT:      [k]los\n",
      "   now:         klos \n",
      "\n",
      "2. REPLACE:     klo[s->c]\n",
      "   now:         kloc \n",
      "\n",
      "\n",
      "\n",
      "\u001b[1mEDIT: Łódź -> Lodz\n",
      "\u001b[0mdistance: 3\n",
      "\n",
      "-------- OPERATIONS ------------------\n",
      "1. REPLACE:     [Ł->L]ódź\n",
      "   now:         Lódź \n",
      "\n",
      "2. REPLACE:     L[ó->o]dź\n",
      "   now:         Lodź \n",
      "\n",
      "3. REPLACE:     Lod[ź->z]\n",
      "   now:         Lodz \n",
      "\n",
      "\n",
      "\n",
      "\u001b[1mEDIT: kwintesencja -> quintessence\n",
      "\u001b[0mdistance: 5\n",
      "\n",
      "-------- OPERATIONS ------------------\n",
      "1. REPLACE:     [k->q]wintesencja\n",
      "   now:         qwintesencja \n",
      "\n",
      "2. REPLACE:     q[w->u]intesencja\n",
      "   now:         quintesencja \n",
      "\n",
      "3. INSERT:      quintes[s]encja\n",
      "   now:         quintessencja \n",
      "\n",
      "4. REPLACE:     quintessenc[j->e]a\n",
      "   now:         quintessencea \n",
      "\n",
      "5. REMOVE:      quintessence[a] \n",
      "   now:         quintessence \n",
      "\n",
      "\n",
      "\n",
      "\u001b[1mEDIT: ATGAATCTTACCGCCTCG -> ATGAGGCTCTGGCCCCTG\n",
      "\u001b[0mdistance: 7\n",
      "\n",
      "-------- OPERATIONS ------------------\n",
      "1. REPLACE:     ATGA[A->G]TCTTACCGCCTCG\n",
      "   now:         ATGAGTCTTACCGCCTCG \n",
      "\n",
      "2. REPLACE:     ATGAG[T->G]CTTACCGCCTCG\n",
      "   now:         ATGAGGCTTACCGCCTCG \n",
      "\n",
      "3. INSERT:      ATGAGGCT[C]TACCGCCTCG\n",
      "   now:         ATGAGGCTCTACCGCCTCG \n",
      "\n",
      "4. REPLACE:     ATGAGGCTCT[A->G]CCGCCTCG\n",
      "   now:         ATGAGGCTCTGCCGCCTCG \n",
      "\n",
      "5. INSERT:      ATGAGGCTCTG[G]CCGCCTCG\n",
      "   now:         ATGAGGCTCTGGCCGCCTCG \n",
      "\n",
      "6. REMOVE:      ATGAGGCTCTGGCC[G] CCTCG\n",
      "   now:         ATGAGGCTCTGGCCCCTCG \n",
      "\n",
      "7. REMOVE:      ATGAGGCTCTGGCCCCT[C] G\n",
      "   now:         ATGAGGCTCTGGCCCCTG \n",
      "\n",
      "\n",
      "\n"
     ]
    }
   ],
   "source": [
    "test()"
   ]
  },
  {
   "cell_type": "markdown",
   "metadata": {},
   "source": [
    "## Zad 4. "
   ]
  },
  {
   "cell_type": "markdown",
   "metadata": {},
   "source": [
    "### Longest Common Subsequence\n",
    "\n",
    "$LSC[i,j]$ $\\rightarrow$ LCS for $x[1..i], y[1..j]$\n",
    "\n",
    "$EDIT[i,j]$ $\\rightarrow$ edit distance (insert/remove, without replacing)\n",
    "\n",
    "$2 \\cdot LCS[i,j] = i + j - EDIT[i,j]$\n",
    "\n",
    "Returns only length of LCS (cannot find LCS)"
   ]
  },
  {
   "cell_type": "code",
   "execution_count": 10,
   "metadata": {},
   "outputs": [],
   "source": [
    "def delta2(a,b):\n",
    "    if a == b:\n",
    "        return 0\n",
    "    else:\n",
    "        # replacing\n",
    "        return 2"
   ]
  },
  {
   "cell_type": "code",
   "execution_count": 11,
   "metadata": {},
   "outputs": [],
   "source": [
    "def LCS(a,b):\n",
    "    return (len(a) + len(b) - edit_distance(a,b,delta2))/2"
   ]
  },
  {
   "cell_type": "code",
   "execution_count": 12,
   "metadata": {},
   "outputs": [
    {
     "data": {
      "text/plain": [
       "3.0"
      ]
     },
     "execution_count": 12,
     "metadata": {},
     "output_type": "execute_result"
    }
   ],
   "source": [
    "LCS(\"qwerty\", \"weronika\")"
   ]
  },
  {
   "cell_type": "markdown",
   "metadata": {},
   "source": [
    "## Zad 5."
   ]
  },
  {
   "cell_type": "code",
   "execution_count": 13,
   "metadata": {},
   "outputs": [],
   "source": [
    "import random"
   ]
  },
  {
   "cell_type": "code",
   "execution_count": 14,
   "metadata": {},
   "outputs": [],
   "source": [
    "from spacy.tokenizer import Tokenizer\n",
    "from spacy.lang.pl import Polish\n",
    "nlp = Polish()\n",
    "tokenizer = Tokenizer(nlp.vocab)"
   ]
  },
  {
   "cell_type": "code",
   "execution_count": 15,
   "metadata": {},
   "outputs": [],
   "source": [
    "with open('romeo-i-julia-700.txt', \"r\", encoding=\"utf8\") as file:\n",
    "    text = file.read()"
   ]
  },
  {
   "cell_type": "code",
   "execution_count": 16,
   "metadata": {},
   "outputs": [],
   "source": [
    "tokens = tokenizer(text)"
   ]
  },
  {
   "cell_type": "markdown",
   "metadata": {},
   "source": [
    "## Zad 6."
   ]
  },
  {
   "cell_type": "code",
   "execution_count": 17,
   "metadata": {},
   "outputs": [],
   "source": [
    "tokens1 = [token for token in tokens if random.random() > 0.03]\n",
    "tokens2 = [token for token in tokens if random.random() > 0.03]"
   ]
  },
  {
   "cell_type": "code",
   "execution_count": 18,
   "metadata": {},
   "outputs": [
    {
     "data": {
      "text/plain": [
       "2272"
      ]
     },
     "execution_count": 18,
     "metadata": {},
     "output_type": "execute_result"
    }
   ],
   "source": [
    "len(tokens)"
   ]
  },
  {
   "cell_type": "code",
   "execution_count": 19,
   "metadata": {},
   "outputs": [
    {
     "data": {
      "text/plain": [
       "2192"
      ]
     },
     "execution_count": 19,
     "metadata": {},
     "output_type": "execute_result"
    }
   ],
   "source": [
    "len(tokens1)"
   ]
  },
  {
   "cell_type": "code",
   "execution_count": 20,
   "metadata": {},
   "outputs": [
    {
     "data": {
      "text/plain": [
       "2211"
      ]
     },
     "execution_count": 20,
     "metadata": {},
     "output_type": "execute_result"
    }
   ],
   "source": [
    "len(tokens2)"
   ]
  },
  {
   "cell_type": "code",
   "execution_count": 21,
   "metadata": {},
   "outputs": [],
   "source": [
    "with open('text1.txt', 'w', encoding=\"utf8\") as out_file:\n",
    "    for token in tokens1:\n",
    "        out_file.write(token.text_with_ws)"
   ]
  },
  {
   "cell_type": "code",
   "execution_count": 22,
   "metadata": {},
   "outputs": [],
   "source": [
    "with open('text2.txt', 'w', encoding=\"utf8\") as out_file:\n",
    "    for token in tokens2:\n",
    "        out_file.write(token.text_with_ws)"
   ]
  },
  {
   "cell_type": "markdown",
   "metadata": {},
   "source": [
    "## Zad 7."
   ]
  },
  {
   "cell_type": "markdown",
   "metadata": {},
   "source": [
    "#### Tokens LCS"
   ]
  },
  {
   "cell_type": "code",
   "execution_count": 23,
   "metadata": {},
   "outputs": [
    {
     "data": {
      "text/plain": [
       "2134.0"
      ]
     },
     "execution_count": 23,
     "metadata": {},
     "output_type": "execute_result"
    }
   ],
   "source": [
    "LCS(tokens1,tokens2)"
   ]
  },
  {
   "cell_type": "markdown",
   "metadata": {},
   "source": [
    "#### Chars LCS"
   ]
  },
  {
   "cell_type": "code",
   "execution_count": 24,
   "metadata": {},
   "outputs": [],
   "source": [
    "with open('text1.txt', \"r\", encoding=\"utf8\") as file:\n",
    "    text1 = file.read()"
   ]
  },
  {
   "cell_type": "code",
   "execution_count": 25,
   "metadata": {},
   "outputs": [],
   "source": [
    "with open('text2.txt', \"r\", encoding=\"utf8\") as file:\n",
    "    text2 = file.read()"
   ]
  },
  {
   "cell_type": "code",
   "execution_count": 26,
   "metadata": {},
   "outputs": [
    {
     "data": {
      "text/plain": [
       "12139"
      ]
     },
     "execution_count": 26,
     "metadata": {},
     "output_type": "execute_result"
    }
   ],
   "source": [
    "len(text1)"
   ]
  },
  {
   "cell_type": "code",
   "execution_count": 27,
   "metadata": {},
   "outputs": [
    {
     "data": {
      "text/plain": [
       "12289"
      ]
     },
     "execution_count": 27,
     "metadata": {},
     "output_type": "execute_result"
    }
   ],
   "source": [
    "len(text2)"
   ]
  },
  {
   "cell_type": "code",
   "execution_count": 28,
   "metadata": {},
   "outputs": [
    {
     "data": {
      "text/plain": [
       "11808.0"
      ]
     },
     "execution_count": 28,
     "metadata": {},
     "output_type": "execute_result"
    }
   ],
   "source": [
    "LCS(text1,text2)"
   ]
  },
  {
   "cell_type": "markdown",
   "metadata": {},
   "source": [
    "## Zad 8."
   ]
  },
  {
   "cell_type": "markdown",
   "metadata": {},
   "source": [
    "This version of LCS allows you to find not only the length but also longest subsequence present in both of strings."
   ]
  },
  {
   "cell_type": "code",
   "execution_count": 29,
   "metadata": {},
   "outputs": [],
   "source": [
    "from bisect import bisect"
   ]
  },
  {
   "cell_type": "code",
   "execution_count": 30,
   "metadata": {},
   "outputs": [],
   "source": [
    "def LCS2(x, y):\n",
    "    ranges = []\n",
    "    ranges.append(len(y))\n",
    "    y_letters = list(y)\n",
    "    for i in range(len(x)):\n",
    "        positions = [j for j, l in enumerate(y_letters) if l == x[i]]\n",
    "        positions.reverse()\n",
    "        for p in positions:\n",
    "            k = bisect(ranges, p)\n",
    "            if k == bisect(ranges, p - 1):\n",
    "                if k < len(ranges) - 1:\n",
    "                    ranges[k] = p\n",
    "                else:\n",
    "                    ranges.insert(k, p)\n",
    "    return len(ranges) - 1"
   ]
  },
  {
   "cell_type": "code",
   "execution_count": 31,
   "metadata": {},
   "outputs": [
    {
     "data": {
      "text/plain": [
       "2134"
      ]
     },
     "execution_count": 31,
     "metadata": {},
     "output_type": "execute_result"
    }
   ],
   "source": [
    "LCS2(tokens1, tokens2)"
   ]
  },
  {
   "cell_type": "markdown",
   "metadata": {},
   "source": [
    "### [diff](https://en.wikipedia.org/wiki/Diff)\n",
    "\n",
    "lines was added(a) or deleted(d)"
   ]
  },
  {
   "cell_type": "code",
   "execution_count": 34,
   "metadata": {},
   "outputs": [],
   "source": [
    "def diff(file1, file2):\n",
    "    with open(file1, 'r', encoding=\"utf8\") as file:\n",
    "        text1 = file.read()\n",
    "    \n",
    "    with open(file2, 'r', encoding=\"utf8\") as file:\n",
    "        text2 = file.read()\n",
    "\n",
    "        \n",
    "    text1 = text1.split('\\n')\n",
    "    text2 = text2.split('\\n')\n",
    "    \n",
    "\n",
    "    edit_table = get_edit_table(text1, text2, delta2)\n",
    "    path, pos = get_path(text1, text2, edit_table)\n",
    "      \n",
    "    x = 0\n",
    "        \n",
    "    for j in range(len(path)):\n",
    "        op = path[j]\n",
    "        i = pos[j]\n",
    "        if op == 'INSERT':\n",
    "            print(\"> ({})  \".format(i + 1) + text1[i])\n",
    "            x -= 1\n",
    "        elif op == 'REMOVE':\n",
    "            print(\"< ({})  \".format(i + x + 1) + text2[i + x])\n",
    "            x += 1\n"
   ]
  },
  {
   "cell_type": "markdown",
   "metadata": {},
   "source": [
    "## Zad 9."
   ]
  },
  {
   "cell_type": "code",
   "execution_count": 35,
   "metadata": {},
   "outputs": [
    {
     "name": "stdout",
     "output_type": "stream",
     "text": [
      "> (4)  tłum. Józef Paszkowski\n",
      "< (4)  Józef Paszkowski\n",
      "> (13)   * MONTEKI, KAPULET — naczelnicy domów sobie\n",
      "> (14)   * STARZEC — brat \n",
      "> (15)   ROMEO — syn Montekiego\n",
      "> (16)   * MERKUCJO — krewny księcia\n",
      "< (13)   * MONTEKI, KAPULET — naczelnicy dwóch domów nieprzyjaznych \n",
      "< (14)   * STARZEC — stryjeczny brat Kapuleta\n",
      "< (15)   * ROMEO — syn Montekiego\n",
      "< (16)   * MERKUCJO — krewny \n",
      "> (18)   * TYBALT — krewny Pani Kapulet* LAURENTY — ojciec franciszkanin\n",
      "> (19)   * JAN — brat z tegoż zgromadzenia\n",
      "< (18)   * TYBALT — krewny Pani Kapulet\n",
      "> (32)   * Obywatele weroneńscy, różne osoby płci obojej, liczący się do przyjaciół domów, maski, straż wojskowa i inne osoby.\n",
      "> (33)  \n",
      "< (31)   * JULIA — córka Kapuletów\n",
      "< (32)   * MARTA — mamka Julii\n",
      "> (47)  Do nowej zbrodni pchają złości dawne,\n",
      "> (48)  Plamiąc szlachetną krwią dłonie\n",
      "< (46)  Dwa rody, zacne jednako i sławne —\n",
      "< (47)  Tam, gdzie się rzecz ta rozgrywa, w Weronie,Do nowej zbrodni pchają złości dawne,\n",
      "< (48)  Plamiąc szlachetną krwią szlachetne dłonie\n",
      "> (50)  Z łon tych dwu wrogów bowiem życie,\n",
      "< (50)  Z łon tych dwu wrogów wzięło bowiem życie,\n",
      "> (52)  Po pełnym przygód nieszczęśliwych bycie\n",
      "< (52)  przygód nieszczęśliwych bycie\n",
      "< (70)  \n",
      "< (72)  / Plac publiczny. Wchodzą Samson i Grzegorz uzbrojeni w tarcze i miecze. /\n",
      "> (72)  / Plac publiczny. Wchodzą Samson i Grzegorz uzbrojeni w tarcze miecze. /\n",
      "> (74)  \n",
      "> (85)  \n",
      "> (87)  Ale będziemy koty, jak z nami zadrą.\n",
      "< (87)  Ale będziemy darli koty, jak z nami zadrą.\n",
      "< (89)  \n",
      "> (92)  zechce zadrzeć nami, będzie musiał zadrżeć.\n",
      "< (92)  Kto zechce zadrzeć z nami, będzie musiał zadrżeć.\n",
      "> (102)  Tak, ale nie zaraz zwykłeś się dać rozruchać.\n",
      "< (102)  Tak, nie zaraz zwykłeś się dać rozruchać.\n",
      "> (112)  Rozruchać się tyle znaczy co ruszyć się z miejsca; być walecznym jest to stać nieporuszenie: pojmuję więc, że skutkiem rozruchania się twego będzie - drapnięcie.\n",
      "< (112)  Rozruchać tyle znaczy co ruszyć się z miejsca; być walecznym jest to stać nieporuszenie: pojmuję więc, że skutkiem rozruchania się twego będzie - drapnięcie.\n",
      "> (117)  Te psy Montekich rozruchać mię mogą do stania na miejscu. Będę jak mur dla każdego mężczyzny i każdej kobiety z tego domu.\n",
      "< (117)  Te psy z domu Montekich rozruchać mię mogą tylko na Będę jak mur dla każdego mężczyzny i każdej kobiety z domu.\n",
      "> (122)  To właśnie pokazuje twoją słabą stronę; mur dla nikogo niestraszny tylko słabi go się trzymają.\n",
      "< (122)  To właśnie pokazuje twoją słabą stronę; mur dla nikogo niestraszny i tylko słabi go się trzymają.\n",
      "> (132)  jest tylko między naszymi panami i między nami, ich ludźmi.\n",
      "< (132)  Spór jest tylko między naszymi panami i między nami, ich ludźmi.\n",
      "> (137)  Mniejsza mi o to, będę nieubłagany. Pobiwszy ludzi, wywrę wściekłość na rzeź między nimi sprawię.\n",
      "< (137)  Mniejsza mi o to, będę nieubłagany. Pobiwszy ludzi, wywrę wściekłość na kobietach: rzeź między sprawię.\n",
      "> (147)  Nie inaczej: wtłoczę miecz w każdą kolei. Wiadomo, że się do lwów liczę.\n",
      "< (147)  Nie inaczej: wtłoczę miecz w każdą po kolei. Wiadomo, że się do lwów liczę.\n",
      "> (152)  Tym lepiej, że się liczysz do zwierząt; bo gdybyś się liczył do ryb, to pewnie sztokfiszem. Weź no się za instrument, bo oto nadchodzi dwóch domowników \n",
      "< (152)  Tym lepiej, że się liczysz do zwierząt; bo gdybyś się liczył do ryb, to byłbyś pewnie sztokfiszem. no się za instrument, bo oto nadchodzi dwóch domowników Montekiego.\n",
      "> (174)  Ja bym miał bać z twojej przyczyny!\n",
      "< (174)  Ja bym się miał bać z twojej przyczyny!\n",
      "> (189)  Nie jak chcą, ale jak śmią. Ja gębę wykrzywię; hańba im, jeśli to ścierpią.\n",
      "< (189)  Nie jak chcą, ale jak śmią. Ja im gębę wykrzywię; hańba im, jeśli to ścierpią.\n",
      "> (204)  Czy na nas się skrzywiłeś, mości panie?\n",
      "< (204)  Czy na nas się skrzywiłeś, mości \n",
      "< (207)  \n",
      "> (208)  \n",
      "> (211)  Będziemy–ż mieli prawo za sobą, jak powiem: tak jest?GRZEGORZ\n",
      "< (211)  Będziemy–ż mieli prawo za sobą, jak powiem: jest?\n",
      "> (213)  Nie.\n",
      "> (214)  \n",
      "> (215)  \n",
      "> (219)  \n",
      "< (217)  \n",
      "> (228)  ABRAHAM\n",
      "< (225)  \n",
      "> (257)  \n",
      "< (254)  \n",
      "> (260)  \n",
      "< (258)  \n",
      "> (272)  BENWOLIO\n",
      "< (269)  \n",
      "> (286)  \n",
      "< (283)  \n",
      "> (290)  Albo wraz ze mną rozdziel nim tych ludzi.\n",
      "> (292)  \n",
      "> (293)  TYBALT\n",
      "< (289)  \n",
      "< (290)  BENWOLIO\n",
      "< (292)  Przywracam tylko pokój. Włóż miecz nazad\n",
      "> (299)  \n",
      "< (296)  TYBALT\n",
      "> (309)  \n",
      "< (306)  PIERWSZY OBYWATEL\n",
      "> (311)  KAPULET\n",
      "< (308)  Hola! berdyszów! pałek! Dalej po nich!\n",
      "< (310)  \n",
      "< (311)  / Wchodzą Kapulet i Pani Kapulet /KAPULET\n",
      "< (312)  \n",
      "> (319)  Raczej co ci z miecza?\n",
      "< (319)  kulę; co ci z miecza?\n",
      "> (332)  Ha! nędzny Kapulecie!\n",
      "< (332)  Ha! Kapulecie!\n",
      "> (336)                          Puść pani.\n",
      "< (336)                          Puść mnie, pani.\n",
      "> (341)  Nie puszczę cię na krok, gdy wróg przed tobą.\n",
      "< (341)  Nie puszczę cię na gdy wróg przed tobą.\n",
      "> (349)  bratniej stali! Cóż to,\n",
      "< (349)  Bezcześciciele bratniej stali! Cóż to,\n",
      "> (351)  Co wściekłych gniewów żar gasicie\n",
      "> (352)  W własnych żył źródle purpurowym;\n",
      "< (351)  Co wściekłych swoich żar gasicie\n",
      "< (352)  W własnych żył swoich źródle purpurowym;\n",
      "> (356)  Wasz rozjątrzony książę postanawia.\n",
      "< (356)  Wasz książę postanawia.Domowe starcia, z marnych słów zrodzone\n",
      "< (357)  Przez was, Monteki Kapulecie,\n",
      "> (362)  Porzucić swoje wygodne przybory\n",
      "< (363)  By zardzewiałym ostrzem zardzewiałe\n",
      "> (367)  Zamęt pokoju opłacicie życiem.\n",
      "> (368)  A teraz ustąpcie niezwłocznie.\n",
      "< (368)  Ty, Kapulecie, pójdziesz ze mną razem;\n",
      "< (369)  Ty zaś, Monteki, przyjdziesz po południu\n",
      "> (370)  Ty zaś, Monteki, przyjdziesz po południu\n",
      "> (371)  Na ratusz, gdzie ci dokładnie w tym względzie\n",
      "> (372)  Dalsza ma wola oznajmiona będzie.\n",
      "< (371)  ma wola oznajmiona będzie.\n",
      "< (372)  Jeszcze raz wzywam tu obecnych\n",
      "< (373)  Pod karą śmierci, aby się rozeszli.\n",
      "> (380)  \n",
      "< (381)  Był żeś tu wtedy, gdy się to zaczęło?\n",
      "> (386)  \n",
      "> (387)  naszego pachołcy\n",
      "> (388)  I wasi już się bili, kiedym nadszedł;\n",
      "> (389)  Dobyłem broni, aby ich rozdzielić:Wtem wpadł szalony Tybalt z gołym mieczem,\n",
      "< (387)  I wasi się bili, kiedym nadszedł;\n",
      "< (388)  Dobyłem broni, aby ich rozdzielić:\n",
      "< (389)  Wtem wpadł szalony Tybalt z gołym mieczem,\n",
      "> (391)  Jął się wywijać nim i siec powietrze,\n",
      "< (391)  Jął się nim i siec powietrze,\n",
      "> (394)  Cięcia i pchnięcia zamieniali, zbiegł się\n",
      "< (394)  Cięcia i pchnięcia zamieniali, zbiegł \n",
      "> (408)  W złotych się oknach ukazało,\n",
      "> (409)  Troski wygnały mię z dala od domu\n",
      "< (408)  W złotych się oknach wschodu ukazało,\n",
      "< (409)  Troski wygnały mię z dala domu\n",
      "> (414)  Lecz on, spostrzegłszy mię, skrył się natychmiastI w najciemniejszej ukrył się \n",
      "> (415)  Pociąg ten jego do odosobnienia\n",
      "< (414)  Lecz on, spostrzegłszy mię, skrył się natychmiast\n",
      "> (418)  Nie mu w jego dumaniach\n",
      "> (419)  I w inną stronę się udałem, chętnie\n",
      "< (417)  Mierząc mym własnym (serce nasze bowiem\n",
      "< (418)  najczynniejsze, kiedyśmy samotni),\n",
      "> (421)  \n",
      "< (420)  I w inną stronę się udałem, chętnie\n",
      "> (426)  Łzami poranną rosę,\n",
      "> (427)  A chmury — swego oblicza chmurami,\n",
      "< (425)  \n",
      "< (426)  Nieraz o świcie go tam widziano\n",
      "> (429)  Wesołe słońce sprzed łoża Aurory\n",
      "< (428)  A chmury — swego oblicza chmurami,\n",
      "> (434)  I sztuczną sobie ciemnicę utwarzał.\n",
      "< (433)  Co tchu zamykał się w swoim pokoju;\n",
      "> (436)  Jeśli się na to lekarstwo nie znajdzie.\n",
      "> (437)  \n",
      "< (435)  I sztuczną sobie ciemnicę utwarzał.\n",
      "< (436)  W czarne bezdroża dusza jego zajdzie,\n",
      "< (449)  \n",
      "< (451)  \n",
      "> (452)  \n",
      "> (454)  MONTEKI\n",
      "> (457)  Lecz on jedyny powiernik swych smutków.\n",
      "< (456)  \n",
      "> (461)  Nim światu wonny swój kielich roztoczył\n",
      "< (460)  Od otwartości wszelkiej tak daleki\n",
      "> (463)  Gdybyśmy mogli dojść tych trosk zarodka,Nie zbrakłoby nam zaradczego środka./ się w głębi. /\n",
      "> (464)  \n",
      "> (465)  \n",
      "< (462)  Nim światu wonny swój kielich roztoczył\n",
      "< (463)  I pełność swoją rozwinął słońcem.\n",
      "> (467)  \n",
      "> (469)  Wyrwę mu z piersi cierpienia tajone.\n",
      "> (476)  \n",
      "< (472)  Oto nadchodzi. Odstąpcie na stronę;\n",
      "< (473)  Wyrwę mu z piersi cierpienia tajone.\n",
      "< (474)  \n",
      "> (489)  \n",
      "< (487)  ROMEO\n",
      "< (489)                          Jeszcze–ż nie południe?BENWOLIO\n",
      "< (490)  \n",
      "< (491)  Dziewiąta biła dopiero.\n",
      "> (508)  \n",
      "< (509)  \n",
      "> (510)  \n",
      "> (511)  więc?\n",
      "> (512)  \n",
      "> (521)                          to? brak miłości?\n",
      "< (519)  \n",
      "< (521)  BENWOLIOJak to? brak miłości?\n",
      "< (523)  \n",
      "> (540)  spór? Nie mów mi o nim, wiem wszystko.\n",
      "< (540)  Jakiś spór? Nie mów mi o nim, wiem wszystko.\n",
      "> (548)  Śnie bez snu! Taką w sobie zawiłość,\n",
      "< (548)  Śnie bez snu! Taką to w sobie zawiłość,\n",
      "< (553)  \n",
      "> (555)  \n",
      "> (556)  ROMEO\n",
      "> (557)  \n",
      "> (573)  Współczucie twoje nad moim cierpieniemNie ulgą, ale nowym jest kamieniem\n",
      "< (571)                          A więc strzała\n",
      "> (575)  To żar, co w oku szczęśliwego płonie;\n",
      "> (576)  Morze łez, w którym nieszczęśliwy tonie.\n",
      "> (577)  Czymże jest więcej? Istnym amalgamem,\n",
      "> (578)  Żółcią trawiącą i zbawczym balsamem.\n",
      "< (573)  Dość mi ciężył mój smutek, ty jego\n",
      "< (574)  Brzemię powiększasz przewyżką twojego;\n",
      "> (583)  Gdybyś mą przyjaźń z tak zostawił.\n",
      "< (579)  To żar, co w oku szczęśliwego płonie;\n",
      "> (585)  \n",
      "< (582)  Żółcią trawiącą i zbawczym balsamem.\n",
      "< (583)  Bądź zdrów.\n",
      "> (588)  Ach! nie jestem tu, nie jestem sobą;\n",
      "> (590)  \n",
      "> (591)  \n",
      "> (592)  BENWOLIO\n",
      "> (593)  \n",
      "> (596)  \n",
      "> (597)  ROMEO\n",
      "< (588)  BENWOLIO\n",
      "< (589)  \n",
      "> (629)  \n",
      "< (621)  Pisać testament: będzie–ż to wezwanie\n",
      "> (631)  \n",
      "< (623)  A więc, kobietę kocham.\n",
      "< (624)  \n",
      "< (625)  \n",
      "< (626)  BENWOLIO\n",
      "> (648)  \n",
      "< (643)  Kupida; ona ma naturę Diany;\n",
      "> (650)  \n",
      "< (645)  Grotów miłości wcale się nie boi;\n",
      "> (656)  Tak jest; i skąpstwo to jest marnotrawstwem,\n",
      "< (651)  Całe bogactwo, którego tak skąpi.\n",
      "> (661)  Temu skazanym - wieczne cierpieć męki.\n",
      "> (662)  \n",
      "> (663)  \n",
      "> (664)  BENWOLIO\n",
      "< (656)  Wiecznie–ż sama zostać z swym bogactwem?\n",
      "< (657)  \n",
      "< (658)  \n",
      "> (667)  \n",
      "< (661)  Tak jest; i skąpstwo to marnotrawstwem,\n"
     ]
    }
   ],
   "source": [
    "diff('text1.txt', 'text2.txt')"
   ]
  }
 ],
 "metadata": {
  "kernelspec": {
   "display_name": "Python 3",
   "language": "python",
   "name": "python3"
  },
  "language_info": {
   "codemirror_mode": {
    "name": "ipython",
    "version": 3
   },
   "file_extension": ".py",
   "mimetype": "text/x-python",
   "name": "python",
   "nbconvert_exporter": "python",
   "pygments_lexer": "ipython3",
   "version": "3.8.1"
  }
 },
 "nbformat": 4,
 "nbformat_minor": 4
}
