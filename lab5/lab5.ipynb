{
 "cells": [
  {
   "cell_type": "markdown",
   "metadata": {},
   "source": [
    "# Metryki w przestrzeni napisów"
   ]
  },
  {
   "cell_type": "markdown",
   "metadata": {},
   "source": [
    "1. Zaimplementuj przynajmniej 3 metryki spośród wymienionych: cosinusowa, LCS, DICE, euklidesowa.\n",
    "2. Zaimplementuj przynajmniej 2 sposoby oceny jakości klasteryzacji (np. indeks Daviesa-Bouldina).\n",
    "3. Stwórz stoplistę najczęściej występujących słów.\n",
    "4. Wykonaj klasteryzację zawartości załączonego pliku (lines.txt) przy użyciu przynajmniej 2 algorytmów oraz metryk zaimplementowanych w pkt. 1. i metryki Levenshteina. Każda linia to adres pocztowy firmy, różne sposoby zapisu tego samego adresu powinny się znaleźć w jednym klastrze.\n",
    "5. Porównaj jakość wyników sposobami zaimplementowanymi w pkt. 2.\n",
    "6. Czy masz jakiś pomysł na poprawę jakości klasteryzacji w tym zadaniu?"
   ]
  },
  {
   "cell_type": "markdown",
   "metadata": {},
   "source": [
    "### Zad 1."
   ]
  },
  {
   "cell_type": "markdown",
   "metadata": {},
   "source": [
    "### LCS distance\n",
    "$d(x,y) = 1-\\frac{LCS(x,y)}{\\max(len(x), len(y))}$"
   ]
  },
  {
   "cell_type": "code",
   "execution_count": 1,
   "metadata": {},
   "outputs": [],
   "source": [
    "from bisect import bisect\n",
    "import numpy as np"
   ]
  },
  {
   "cell_type": "code",
   "execution_count": 2,
   "metadata": {},
   "outputs": [],
   "source": [
    "def LCS(x, y):\n",
    "    ranges = []\n",
    "    ranges.append(len(y))\n",
    "    y_letters = list(y)\n",
    "    for i in range(len(x)):\n",
    "        positions = [j for j, l in enumerate(y_letters) if l == x[i]]\n",
    "        positions.reverse()\n",
    "        for p in positions:\n",
    "            k = bisect(ranges, p)\n",
    "            if k == bisect(ranges, p - 1):\n",
    "                if k < len(ranges) - 1:\n",
    "                    ranges[k] = p\n",
    "                else:\n",
    "                    ranges.insert(k, p)\n",
    "    return len(ranges) - 1"
   ]
  },
  {
   "cell_type": "code",
   "execution_count": 3,
   "metadata": {},
   "outputs": [],
   "source": [
    "a = \"abcd\"\n",
    "b = \"aabc\""
   ]
  },
  {
   "cell_type": "code",
   "execution_count": 4,
   "metadata": {},
   "outputs": [
    {
     "data": {
      "text/plain": [
       "3"
      ]
     },
     "execution_count": 4,
     "metadata": {},
     "output_type": "execute_result"
    }
   ],
   "source": [
    "LCS(a,b)"
   ]
  },
  {
   "cell_type": "code",
   "execution_count": 5,
   "metadata": {},
   "outputs": [],
   "source": [
    "def LCS_metric(x,y):\n",
    "    return 1 - LCS(x,y)/max(len(x), len(y))"
   ]
  },
  {
   "cell_type": "code",
   "execution_count": 6,
   "metadata": {},
   "outputs": [
    {
     "data": {
      "text/plain": [
       "0.25"
      ]
     },
     "execution_count": 6,
     "metadata": {},
     "output_type": "execute_result"
    }
   ],
   "source": [
    "LCS_metric(a,b)"
   ]
  },
  {
   "cell_type": "markdown",
   "metadata": {},
   "source": [
    "### Utils"
   ]
  },
  {
   "cell_type": "code",
   "execution_count": 7,
   "metadata": {},
   "outputs": [],
   "source": [
    "def ngrams(text,n):\n",
    "    ng = {}\n",
    "    for i in range(len(text) - n + 1):\n",
    "        cur = text[i:i+n]\n",
    "        if cur not in ng:\n",
    "            ng[cur] = 0\n",
    "            for j in range(len(text) - n + 1):\n",
    "                if text[j:j+n] == cur:\n",
    "                    ng[cur] += 1\n",
    "    return ng"
   ]
  },
  {
   "cell_type": "code",
   "execution_count": 8,
   "metadata": {},
   "outputs": [
    {
     "data": {
      "text/plain": [
       "{'ala': 2, 'lac': 1, 'aca': 1, 'cal': 1}"
      ]
     },
     "execution_count": 8,
     "metadata": {},
     "output_type": "execute_result"
    }
   ],
   "source": [
    "ngrams(\"alacala\",3)"
   ]
  },
  {
   "cell_type": "code",
   "execution_count": 66,
   "metadata": {},
   "outputs": [],
   "source": [
    "def vectors(text1,text2,n=3):\n",
    "    ng1 = ngrams(text1, n)\n",
    "    ng2 = ngrams(text2, n)\n",
    "    keys1 = set(ng1.keys())\n",
    "    keys2 = set(ng2.keys())\n",
    "\n",
    "    # join keys\n",
    "    k = keys1 | keys2\n",
    "    \n",
    "    vecs1 = np.zeros(len(k))\n",
    "    vecs2 = np.zeros(len(k))\n",
    "\n",
    "    for idx,key in enumerate(k):\n",
    "        vecs1[idx] = ng1.get(key,0)\n",
    "        vecs2[idx] = ng2.get(key,0)\n",
    "        \n",
    "    return vecs1,vecs2"
   ]
  },
  {
   "cell_type": "markdown",
   "metadata": {},
   "source": [
    "### Euclidean distance\n",
    "$d(x,y) = \\sqrt{\\sum_{i=1}^{n}(x_i-y_i)^2}$\n",
    "\n",
    "where $x,y$ are vectors"
   ]
  },
  {
   "cell_type": "code",
   "execution_count": 78,
   "metadata": {},
   "outputs": [],
   "source": [
    "def Euclidean_metric(x,y,n=3):\n",
    "    v1, v2 = vectors(x,y,n)\n",
    "    dist = np.linalg.norm(v1 - v2)\n",
    "    \n",
    "    return dist"
   ]
  },
  {
   "cell_type": "code",
   "execution_count": 79,
   "metadata": {},
   "outputs": [
    {
     "data": {
      "text/plain": [
       "3.3166247903554"
      ]
     },
     "execution_count": 79,
     "metadata": {},
     "output_type": "execute_result"
    }
   ],
   "source": [
    "Euclidean_metric(\"alamakota\",\"alapaala\",3)"
   ]
  },
  {
   "cell_type": "markdown",
   "metadata": {},
   "source": [
    "### Cosine distance\n",
    "$d(x,y) = 1 - \\frac{x \\cdot y}{||x|| \\cdot ||y||} $"
   ]
  },
  {
   "cell_type": "code",
   "execution_count": 80,
   "metadata": {},
   "outputs": [],
   "source": [
    "def cosine_metric(x,y,n=3):\n",
    "    v1, v2 = vectors(x,y,n)\n",
    "    dist = 1 - np.dot(v1,v2)/np.linalg.norm(v1)/np.linalg.norm(v2)\n",
    "    return dist"
   ]
  },
  {
   "cell_type": "code",
   "execution_count": 81,
   "metadata": {},
   "outputs": [
    {
     "data": {
      "text/plain": [
       "0.7327387580875757"
      ]
     },
     "execution_count": 81,
     "metadata": {},
     "output_type": "execute_result"
    }
   ],
   "source": [
    "cosine_metric(\"alamakota\",\"alapaala\",3)"
   ]
  },
  {
   "cell_type": "markdown",
   "metadata": {},
   "source": [
    "### Zad 2."
   ]
  },
  {
   "cell_type": "markdown",
   "metadata": {},
   "source": [
    "### Davies-Bouldin index:\n",
    "$DB=\\frac{1}{n}\\sum_{i=1}^{n}\\max_{j \\neq i} \\frac{\\sigma_i + \\sigma_j}{d(c_i+c_j)}$\n",
    "\n",
    "$c_x-$ centroid klastra\n",
    "\n",
    "$\\sigma_x-$średnia odległość między elementami klastra"
   ]
  },
  {
   "cell_type": "code",
   "execution_count": null,
   "metadata": {},
   "outputs": [],
   "source": []
  },
  {
   "cell_type": "code",
   "execution_count": null,
   "metadata": {},
   "outputs": [],
   "source": []
  },
  {
   "cell_type": "markdown",
   "metadata": {},
   "source": [
    "### Zad 3."
   ]
  },
  {
   "cell_type": "code",
   "execution_count": 71,
   "metadata": {},
   "outputs": [],
   "source": [
    "def stoplist(text, frequency = 0.2):\n",
    "    counted = {}\n",
    "    for word in text.split():\n",
    "        counted[word] = counted.get(word,0) + 1\n",
    "    print(counted)\n",
    "    \n",
    "    stoplist = set()\n",
    "    all_words = sum(counted.values())\n",
    "    for word in counted:\n",
    "        if counted[word]/all_words >= frequency:\n",
    "            stoplist.add(word)\n",
    "            \n",
    "    return stoplist"
   ]
  },
  {
   "cell_type": "code",
   "execution_count": 72,
   "metadata": {},
   "outputs": [],
   "source": [
    "t = \"a a ab abc ab o q w e r\""
   ]
  },
  {
   "cell_type": "code",
   "execution_count": 73,
   "metadata": {},
   "outputs": [
    {
     "name": "stdout",
     "output_type": "stream",
     "text": [
      "{'a': 2, 'ab': 2, 'abc': 1, 'o': 1, 'q': 1, 'w': 1, 'e': 1, 'r': 1}\n"
     ]
    },
    {
     "data": {
      "text/plain": [
       "{'a', 'ab'}"
      ]
     },
     "execution_count": 73,
     "metadata": {},
     "output_type": "execute_result"
    }
   ],
   "source": [
    "stoplist(t)"
   ]
  },
  {
   "cell_type": "code",
   "execution_count": null,
   "metadata": {},
   "outputs": [],
   "source": []
  },
  {
   "cell_type": "code",
   "execution_count": null,
   "metadata": {},
   "outputs": [],
   "source": []
  }
 ],
 "metadata": {
  "kernelspec": {
   "display_name": "Python 3.8.1 32-bit",
   "language": "python",
   "name": "python38132bit9a120df58b394f05878c762c4c55e3da"
  },
  "language_info": {
   "codemirror_mode": {
    "name": "ipython",
    "version": 3
   },
   "file_extension": ".py",
   "mimetype": "text/x-python",
   "name": "python",
   "nbconvert_exporter": "python",
   "pygments_lexer": "ipython3",
   "version": "3.8.1"
  }
 },
 "nbformat": 4,
 "nbformat_minor": 4
}
